{
  "nbformat": 4,
  "nbformat_minor": 0,
  "metadata": {
    "colab": {
      "provenance": []
    },
    "kernelspec": {
      "name": "python3",
      "display_name": "Python 3"
    },
    "language_info": {
      "name": "python"
    }
  },
  "cells": [
    {
      "cell_type": "code",
      "execution_count": null,
      "metadata": {
        "colab": {
          "base_uri": "https://localhost:8080/"
        },
        "id": "4fOil7cX5DOW",
        "outputId": "307c5d05-fd4c-474a-c54c-11e16376a1f3"
      },
      "outputs": [
        {
          "output_type": "stream",
          "name": "stdout",
          "text": [
            "Requirement already satisfied: pandas in /usr/local/lib/python3.10/dist-packages (2.2.2)\n",
            "Requirement already satisfied: scikit-learn in /usr/local/lib/python3.10/dist-packages (1.6.0)\n",
            "Requirement already satisfied: matplotlib in /usr/local/lib/python3.10/dist-packages (3.8.0)\n",
            "Requirement already satisfied: numpy>=1.22.4 in /usr/local/lib/python3.10/dist-packages (from pandas) (1.26.4)\n",
            "Requirement already satisfied: python-dateutil>=2.8.2 in /usr/local/lib/python3.10/dist-packages (from pandas) (2.8.2)\n",
            "Requirement already satisfied: pytz>=2020.1 in /usr/local/lib/python3.10/dist-packages (from pandas) (2024.2)\n",
            "Requirement already satisfied: tzdata>=2022.7 in /usr/local/lib/python3.10/dist-packages (from pandas) (2024.2)\n",
            "Requirement already satisfied: scipy>=1.6.0 in /usr/local/lib/python3.10/dist-packages (from scikit-learn) (1.13.1)\n",
            "Requirement already satisfied: joblib>=1.2.0 in /usr/local/lib/python3.10/dist-packages (from scikit-learn) (1.4.2)\n",
            "Requirement already satisfied: threadpoolctl>=3.1.0 in /usr/local/lib/python3.10/dist-packages (from scikit-learn) (3.5.0)\n",
            "Requirement already satisfied: contourpy>=1.0.1 in /usr/local/lib/python3.10/dist-packages (from matplotlib) (1.3.1)\n",
            "Requirement already satisfied: cycler>=0.10 in /usr/local/lib/python3.10/dist-packages (from matplotlib) (0.12.1)\n",
            "Requirement already satisfied: fonttools>=4.22.0 in /usr/local/lib/python3.10/dist-packages (from matplotlib) (4.55.3)\n",
            "Requirement already satisfied: kiwisolver>=1.0.1 in /usr/local/lib/python3.10/dist-packages (from matplotlib) (1.4.7)\n",
            "Requirement already satisfied: packaging>=20.0 in /usr/local/lib/python3.10/dist-packages (from matplotlib) (24.2)\n",
            "Requirement already satisfied: pillow>=6.2.0 in /usr/local/lib/python3.10/dist-packages (from matplotlib) (11.0.0)\n",
            "Requirement already satisfied: pyparsing>=2.3.1 in /usr/local/lib/python3.10/dist-packages (from matplotlib) (3.2.0)\n",
            "Requirement already satisfied: six>=1.5 in /usr/local/lib/python3.10/dist-packages (from python-dateutil>=2.8.2->pandas) (1.17.0)\n"
          ]
        }
      ],
      "source": [
        "!pip install pandas scikit-learn matplotlib\n"
      ]
    },
    {
      "cell_type": "code",
      "source": [
        "from google.cloud import bigquery\n",
        "import os\n",
        "\n",
        "# 設置服務帳戶憑據\n",
        "os.environ[\"GOOGLE_APPLICATION_CREDENTIALS\"] = \"/content/final-445615-7590bb2d51fb.json\"\n",
        "\n",
        "# 初始化 BigQuery 客戶端\n",
        "client = bigquery.Client()\n",
        "\n",
        "# 執行查詢並保存為 CSV\n",
        "query = \"\"\"\n",
        "SELECT *\n",
        "FROM `final-445615.ml_data.stackoverflow_data_sample10`\n",
        "\"\"\"\n",
        "df = client.query(query).to_dataframe()\n",
        "df.to_csv(\"stackoverflow_data_10_percent.csv\", index=False)\n",
        "print(\"Data exported to local file: stackoverflow_data_10_percent.csv\")\n"
      ],
      "metadata": {
        "colab": {
          "base_uri": "https://localhost:8080/"
        },
        "id": "j6LJaM936gkB",
        "outputId": "757af4cb-a8f2-4bd2-a9f1-6947e0561f6f"
      },
      "execution_count": null,
      "outputs": [
        {
          "output_type": "stream",
          "name": "stdout",
          "text": [
            "Data exported to local file: stackoverflow_data_10_percent.csv\n"
          ]
        }
      ]
    },
    {
      "cell_type": "code",
      "source": [
        "import pandas as pd\n",
        "\n",
        "# 加載數據\n",
        "df = pd.read_csv(\"stackoverflow_data_10_percent.csv\")\n",
        "\n",
        "# 查看數據的前幾行\n",
        "print(df.head())\n",
        "\n",
        "# 查看數據的總筆數和欄位\n",
        "print(f\"數據筆數: {len(df)}\")\n",
        "print(f\"欄位名稱: {list(df.columns)}\")\n"
      ],
      "metadata": {
        "colab": {
          "base_uri": "https://localhost:8080/"
        },
        "id": "88b0SGgU7NCi",
        "outputId": "61d37ef8-e7dc-4797-f76d-9d4b9e5524bb"
      },
      "execution_count": null,
      "outputs": [
        {
          "output_type": "stream",
          "name": "stdout",
          "text": [
            "   answer_score  answer_comment_count  post_type_id  question_view_count  \\\n",
            "0             0                    15             1                   94   \n",
            "1             0                    11             1                 1571   \n",
            "2             0                    10             1                   90   \n",
            "3             0                     9             1                  546   \n",
            "4             0                    11             1                 1197   \n",
            "\n",
            "   answerer_reputation  classification_label  \n",
            "0                    1                     1  \n",
            "1                 1793                     1  \n",
            "2                 3330                     0  \n",
            "3                35843                     1  \n",
            "4                 2564                     1  \n",
            "數據筆數: 2134672\n",
            "欄位名稱: ['answer_score', 'answer_comment_count', 'post_type_id', 'question_view_count', 'answerer_reputation', 'classification_label']\n"
          ]
        }
      ]
    },
    {
      "cell_type": "markdown",
      "source": [
        "# 數據預處理"
      ],
      "metadata": {
        "id": "bDRoAJWB7RMD"
      }
    },
    {
      "cell_type": "code",
      "source": [
        "from sklearn.model_selection import train_test_split\n",
        "from sklearn.preprocessing import StandardScaler\n",
        "\n",
        "# 選擇特徵和目標欄位\n",
        "features = [\"answer_score\", \"answer_comment_count\", \"post_type_id\", \"question_view_count\", \"answerer_reputation\"]\n",
        "target = \"classification_label\"\n",
        "\n",
        "# 分離特徵與目標\n",
        "X = df[features]\n",
        "y = df[target]\n",
        "\n",
        "# 分割數據集為訓練集和測試集\n",
        "X_train, X_test, y_train, y_test = train_test_split(X, y, test_size=0.2, random_state=42)\n",
        "\n",
        "# 標準化數據\n",
        "scaler = StandardScaler()\n",
        "X_train = scaler.fit_transform(X_train)\n",
        "X_test = scaler.transform(X_test)\n"
      ],
      "metadata": {
        "id": "TSgMGs-R7U9O"
      },
      "execution_count": null,
      "outputs": []
    },
    {
      "cell_type": "code",
      "source": [
        "from sklearn.ensemble import RandomForestClassifier\n",
        "from sklearn.metrics import classification_report, accuracy_score\n",
        "\n",
        "# 初始化分類模型\n",
        "clf = RandomForestClassifier(n_estimators=100, random_state=42)\n",
        "\n",
        "# 訓練模型\n",
        "clf.fit(X_train, y_train)\n",
        "\n",
        "# 測試模型\n",
        "y_pred = clf.predict(X_test)\n",
        "\n",
        "# 評估模型\n",
        "print(\"Accuracy:\", accuracy_score(y_test, y_pred))\n",
        "print(\"Classification Report:\\n\", classification_report(y_test, y_pred))\n"
      ],
      "metadata": {
        "colab": {
          "base_uri": "https://localhost:8080/"
        },
        "id": "lQje7BKy7XwM",
        "outputId": "e9f28e02-66a3-4739-d44b-ca8ea1eb03c2"
      },
      "execution_count": null,
      "outputs": [
        {
          "output_type": "stream",
          "name": "stdout",
          "text": [
            "Accuracy: 0.6706805485612564\n",
            "Classification Report:\n",
            "               precision    recall  f1-score   support\n",
            "\n",
            "           0       0.65      0.60      0.62    194265\n",
            "           1       0.69      0.73      0.71    232670\n",
            "\n",
            "    accuracy                           0.67    426935\n",
            "   macro avg       0.67      0.66      0.67    426935\n",
            "weighted avg       0.67      0.67      0.67    426935\n",
            "\n"
          ]
        }
      ]
    },
    {
      "cell_type": "markdown",
      "source": [
        "# 用20%的資料，並加上回答者年資特徵 : 回答時間-註冊時間"
      ],
      "metadata": {
        "id": "v6g5p4pPAGTg"
      }
    },
    {
      "cell_type": "code",
      "source": [
        "from google.cloud import bigquery\n",
        "import os\n",
        "\n",
        "# 設置服務帳戶憑據\n",
        "os.environ[\"GOOGLE_APPLICATION_CREDENTIALS\"] = \"/content/final-445615-7590bb2d51fb.json\"\n",
        "\n",
        "# 初始化 BigQuery 客戶端\n",
        "client = bigquery.Client()\n",
        "# 執行查詢並保存為 CSV\n",
        "query = \"\"\"\n",
        "SELECT *\n",
        "FROM `final-445615.ml_data.stackoverflow_data_sample20`\n",
        "\"\"\"\n",
        "df = client.query(query).to_dataframe()\n",
        "df.to_csv(\"stackoverflow_data_20.csv\", index=False)\n",
        "print(\"Data exported to local file: stackoverflow_data_20.csv\")"
      ],
      "metadata": {
        "colab": {
          "base_uri": "https://localhost:8080/"
        },
        "id": "5XQx7XqjAS16",
        "outputId": "2cd7799c-ee69-40af-d89c-bfd33279e14f"
      },
      "execution_count": null,
      "outputs": [
        {
          "output_type": "stream",
          "name": "stdout",
          "text": [
            "Data exported to local file: stackoverflow_data_20.csv\n"
          ]
        }
      ]
    },
    {
      "cell_type": "code",
      "source": [
        "import pandas as pd\n",
        "\n",
        "# 加載數據\n",
        "df = pd.read_csv(\"stackoverflow_data_20.csv\")\n",
        "\n",
        "\n",
        "# 查看數據的總筆數和欄位\n",
        "print(f\"數據筆數: {len(df)}\")\n",
        "print(f\"欄位名稱: {list(df.columns)}\")\n"
      ],
      "metadata": {
        "colab": {
          "base_uri": "https://localhost:8080/"
        },
        "id": "73wNwPntauhB",
        "outputId": "a24942f0-8f3b-4830-ccaf-41e6317daf86"
      },
      "execution_count": null,
      "outputs": [
        {
          "output_type": "stream",
          "name": "stdout",
          "text": [
            "數據筆數: 4270046\n",
            "欄位名稱: ['answer_score', 'answer_comment_count', 'post_type_id', 'question_view_count', 'answerer_reputation', 'classification_label', 'user_tenure_seconds']\n"
          ]
        }
      ]
    },
    {
      "cell_type": "code",
      "source": [
        "from sklearn.model_selection import train_test_split\n",
        "from sklearn.preprocessing import StandardScaler\n",
        "\n",
        "# 選擇特徵和目標欄位\n",
        "features = [\"answer_score\", \"answer_comment_count\", \"post_type_id\", \"question_view_count\", \"answerer_reputation\",\"user_tenure_seconds\"]\n",
        "target = \"classification_label\"\n",
        "\n",
        "# 分離特徵與目標\n",
        "X = df[features]\n",
        "y = df[target]\n",
        "\n",
        "# 分割數據集為訓練集和測試集\n",
        "X_train, X_test, y_train, y_test = train_test_split(X, y, test_size=0.2, random_state=42)\n",
        "\n",
        "# 標準化數據\n",
        "scaler = StandardScaler()\n",
        "X_train = scaler.fit_transform(X_train)\n",
        "X_test = scaler.transform(X_test)\n"
      ],
      "metadata": {
        "id": "RL3DqTc1AZCM"
      },
      "execution_count": null,
      "outputs": []
    },
    {
      "cell_type": "code",
      "source": [
        "from sklearn.ensemble import RandomForestClassifier\n",
        "from sklearn.metrics import classification_report, accuracy_score\n",
        "\n",
        "# 初始化分類模型\n",
        "clf = RandomForestClassifier(n_estimators=50, random_state=42)\n",
        "\n",
        "# 訓練模型\n",
        "clf.fit(X_train, y_train)\n",
        "\n",
        "# 測試模型\n",
        "y_pred = clf.predict(X_test)\n",
        "\n",
        "# 評估模型\n",
        "print(\"Accuracy:\", accuracy_score(y_test, y_pred))\n",
        "print(\"Classification Report:\\n\", classification_report(y_test, y_pred))\n"
      ],
      "metadata": {
        "colab": {
          "base_uri": "https://localhost:8080/"
        },
        "id": "KI_bE72uAfku",
        "outputId": "209ea61f-9f72-4591-eaf5-a6a286eeff84"
      },
      "execution_count": null,
      "outputs": [
        {
          "output_type": "stream",
          "name": "stdout",
          "text": [
            "Accuracy: 0.6974812941300453\n",
            "Classification Report:\n",
            "               precision    recall  f1-score   support\n",
            "\n",
            "           0       0.69      0.61      0.65    387508\n",
            "           1       0.70      0.77      0.74    466502\n",
            "\n",
            "    accuracy                           0.70    854010\n",
            "   macro avg       0.70      0.69      0.69    854010\n",
            "weighted avg       0.70      0.70      0.70    854010\n",
            "\n"
          ]
        }
      ]
    },
    {
      "cell_type": "markdown",
      "source": [
        "# 用10% accepted_answer_id IS NOT NULL的資料訓練，純數值欄位有vote"
      ],
      "metadata": {
        "id": "DmSAkviibphd"
      }
    },
    {
      "cell_type": "code",
      "source": [
        "from google.cloud import bigquery\n",
        "import os\n",
        "\n",
        "# 設置服務帳戶憑據\n",
        "os.environ[\"GOOGLE_APPLICATION_CREDENTIALS\"] = \"/content/final-445615-7590bb2d51fb.json\"\n",
        "\n",
        "# 初始化 BigQuery 客戶端\n",
        "client = bigquery.Client()\n",
        "# 執行查詢並保存為 CSV\n",
        "query = \"\"\"\n",
        "SELECT *\n",
        "FROM `final-445615.ml_data.1231_sample10`\n",
        "\"\"\"\n",
        "full_df = client.query(query).to_dataframe()\n",
        "full_df.to_csv(\"stackoverflow_data.csv\", index=False)\n",
        "print(\"Data exported to local file: stackoverflow_data.csv\")"
      ],
      "metadata": {
        "colab": {
          "base_uri": "https://localhost:8080/"
        },
        "id": "ea3BmiU6borB",
        "outputId": "5765f032-ef90-4e61-d061-d9e39c3f3109"
      },
      "execution_count": null,
      "outputs": [
        {
          "output_type": "stream",
          "name": "stdout",
          "text": [
            "Data exported to local file: stackoverflow_data.csv\n"
          ]
        }
      ]
    },
    {
      "cell_type": "code",
      "source": [
        "# 查看數據的總筆數和欄位\n",
        "print(f\"數據筆數: {len(full_df)}\")\n",
        "print(f\"欄位名稱: {list(full_df.columns)}\")\n"
      ],
      "metadata": {
        "colab": {
          "base_uri": "https://localhost:8080/"
        },
        "id": "RV5rovZmb4cV",
        "outputId": "85d82787-c798-4151-9bf6-dfebb93ce28c"
      },
      "execution_count": null,
      "outputs": [
        {
          "output_type": "stream",
          "name": "stdout",
          "text": [
            "數據筆數: 2133006\n",
            "欄位名稱: ['answer_score', 'answer_comment_count', 'answerer_reputation', 'answer_favorite_count', 'answerer_up_votes', 'answerer_down_votes', 'classification_label', 'user_tenure_seconds']\n"
          ]
        }
      ]
    },
    {
      "cell_type": "code",
      "source": [
        "from sklearn.model_selection import train_test_split\n",
        "from sklearn.preprocessing import StandardScaler\n",
        "\n",
        "# 選擇特徵和目標欄位\n",
        "features = [\"answer_score\", \"answer_comment_count\", \"answerer_reputation\",\"user_tenure_seconds\",\"answerer_up_votes\",\"answerer_down_votes\"]\n",
        "target = \"classification_label\"\n",
        "\n",
        "# 分離特徵與目標\n",
        "X = full_df[features]\n",
        "y = full_df[target]\n",
        "\n",
        "# 分割數據集為訓練集和測試集\n",
        "X_train, X_test, y_train, y_test = train_test_split(X, y, test_size=0.2, random_state=42)\n",
        "\n",
        "# 標準化數據\n",
        "scaler = StandardScaler()\n",
        "X_train = scaler.fit_transform(X_train)\n",
        "X_test = scaler.transform(X_test)"
      ],
      "metadata": {
        "id": "DMqPsnGsb9rv"
      },
      "execution_count": null,
      "outputs": []
    },
    {
      "cell_type": "code",
      "source": [],
      "metadata": {
        "id": "KFFLV5qk14s9"
      },
      "execution_count": null,
      "outputs": []
    },
    {
      "cell_type": "code",
      "source": [
        "from sklearn.ensemble import RandomForestClassifier\n",
        "from sklearn.metrics import classification_report, accuracy_score\n",
        "# 初始化分類模型\n",
        "clf = RandomForestClassifier(n_estimators=100, random_state=42)\n",
        "\n",
        "# 訓練模型\n",
        "clf.fit(X_train, y_train)\n",
        "\n",
        "# 測試模型\n",
        "y_pred = clf.predict(X_test)\n",
        "\n",
        "# 評估模型\n",
        "print(\"Accuracy:\", accuracy_score(y_test, y_pred))\n",
        "print(\"Classification Report:\\n\", classification_report(y_test, y_pred))\n"
      ],
      "metadata": {
        "colab": {
          "base_uri": "https://localhost:8080/"
        },
        "id": "QpJSBcT-cKB0",
        "outputId": "46e41d24-49ce-40c7-89ff-a37488f1cf20"
      },
      "execution_count": null,
      "outputs": [
        {
          "output_type": "stream",
          "name": "stdout",
          "text": [
            "Accuracy: 0.6356416519378718\n",
            "Classification Report:\n",
            "               precision    recall  f1-score   support\n",
            "\n",
            "         0.0       0.61      0.55      0.58    193442\n",
            "         1.0       0.66      0.70      0.68    233160\n",
            "\n",
            "    accuracy                           0.64    426602\n",
            "   macro avg       0.63      0.63      0.63    426602\n",
            "weighted avg       0.63      0.64      0.63    426602\n",
            "\n"
          ]
        }
      ]
    },
    {
      "cell_type": "markdown",
      "source": [
        "# 20%"
      ],
      "metadata": {
        "id": "RpUdX_vK1pvt"
      }
    },
    {
      "cell_type": "code",
      "source": [
        "from google.cloud import bigquery\n",
        "import os\n",
        "\n",
        "# 設置服務帳戶憑據\n",
        "os.environ[\"GOOGLE_APPLICATION_CREDENTIALS\"] = \"/content/final-445615-7590bb2d51fb.json\"\n",
        "\n",
        "# 初始化 BigQuery 客戶端\n",
        "client = bigquery.Client()\n",
        "# 執行查詢並保存為 CSV\n",
        "query = \"\"\"\n",
        "SELECT *\n",
        "FROM `final-445615.ml_data.1231_sample20`\n",
        "\"\"\"\n",
        "full_df = client.query(query).to_dataframe()\n",
        "full_df.to_csv(\"stackoverflow_data.csv\", index=False)\n",
        "print(\"Data exported to local file: stackoverflow_data.csv\")"
      ],
      "metadata": {
        "colab": {
          "base_uri": "https://localhost:8080/"
        },
        "id": "j6Oiqk4Y1x9I",
        "outputId": "6ed289c2-828b-4f33-a57d-bc397f43da49"
      },
      "execution_count": null,
      "outputs": [
        {
          "output_type": "stream",
          "name": "stdout",
          "text": [
            "Data exported to local file: stackoverflow_data.csv\n"
          ]
        }
      ]
    },
    {
      "cell_type": "code",
      "source": [
        "# 查看數據的總筆數和欄位\n",
        "print(f\"數據筆數: {len(full_df)}\")\n",
        "print(f\"欄位名稱: {list(full_df.columns)}\")\n"
      ],
      "metadata": {
        "colab": {
          "base_uri": "https://localhost:8080/"
        },
        "id": "PS_8Ow3S12dh",
        "outputId": "16f27f41-b8d3-45b5-d976-4ba544435901"
      },
      "execution_count": null,
      "outputs": [
        {
          "output_type": "stream",
          "name": "stdout",
          "text": [
            "數據筆數: 4266360\n",
            "欄位名稱: ['answer_score', 'answer_comment_count', 'answerer_reputation', 'answer_favorite_count', 'answerer_up_votes', 'answerer_down_votes', 'classification_label', 'user_tenure_seconds']\n"
          ]
        }
      ]
    },
    {
      "cell_type": "code",
      "source": [
        "from sklearn.model_selection import train_test_split\n",
        "from sklearn.preprocessing import StandardScaler\n",
        "\n",
        "# 選擇特徵和目標欄位\n",
        "features = [\"answer_score\", \"answer_comment_count\", \"answerer_reputation\",\"user_tenure_seconds\",\"answerer_up_votes\",\"answerer_down_votes\"]\n",
        "target = \"classification_label\"\n",
        "\n",
        "# 分離特徵與目標\n",
        "X = full_df[features]\n",
        "y = full_df[target]\n",
        "\n",
        "# 分割數據集為訓練集和測試集\n",
        "X_train, X_test, y_train, y_test = train_test_split(X, y, test_size=0.2, random_state=42)\n",
        "\n",
        "# 標準化數據\n",
        "scaler = StandardScaler()\n",
        "X_train = scaler.fit_transform(X_train)\n",
        "X_test = scaler.transform(X_test)"
      ],
      "metadata": {
        "id": "HYg3VG6p15cd"
      },
      "execution_count": null,
      "outputs": []
    },
    {
      "cell_type": "code",
      "source": [
        "from sklearn.ensemble import RandomForestClassifier\n",
        "from sklearn.metrics import classification_report, accuracy_score, precision_score, recall_score, f1_score\n",
        "from sklearn.model_selection import train_test_split\n",
        "import numpy as np\n",
        "\n",
        "# 減少參數範圍和樹的數量\n",
        "clf = RandomForestClassifier(\n",
        "    n_estimators=50,         # 減少樹的數量以降低計算量\n",
        "    max_depth=20,            # 限制最大深度避免過度擬合並降低計算量\n",
        "    min_samples_split=5,     # 增加樣本分裂限制以降低模型複雜度\n",
        "    random_state=42,\n",
        "    n_jobs=-1                # 使用所有可用核心加速計算\n",
        ")\n",
        "\n",
        "# 訓練模型\n",
        "clf.fit(X_train, y_train)\n",
        "\n",
        "# 預測測試集\n",
        "y_pred = clf.predict(X_test)\n",
        "\n",
        "# 性能評估\n",
        "accuracy = accuracy_score(y_test, y_pred)\n",
        "precision = precision_score(y_test, y_pred, zero_division=0)  # 處理可能的零除錯誤\n",
        "recall = recall_score(y_test, y_pred, zero_division=0)\n",
        "f1 = f1_score(y_test, y_pred, zero_division=0)\n",
        "\n",
        "# 打印評估指標\n",
        "print(\"Accuracy:\", accuracy)\n",
        "print(\"Precision:\", precision)\n",
        "print(\"Recall:\", recall)\n",
        "print(\"F1 Score:\", f1)\n",
        "print(\"\\nClassification Report:\\n\", classification_report(y_test, y_pred))\n"
      ],
      "metadata": {
        "id": "tdoo9K_218tA",
        "colab": {
          "base_uri": "https://localhost:8080/"
        },
        "outputId": "29b956c7-da24-4b09-9672-1c74e5505f22"
      },
      "execution_count": null,
      "outputs": [
        {
          "output_type": "stream",
          "name": "stdout",
          "text": [
            "Accuracy: 0.6592024583016904\n",
            "Precision: 0.6687613855667235\n",
            "Recall: 0.7436650397841517\n",
            "F1 Score: 0.7042270711977566\n",
            "\n",
            "Classification Report:\n",
            "               precision    recall  f1-score   support\n",
            "\n",
            "         0.0       0.64      0.56      0.60    387760\n",
            "         1.0       0.67      0.74      0.70    465512\n",
            "\n",
            "    accuracy                           0.66    853272\n",
            "   macro avg       0.66      0.65      0.65    853272\n",
            "weighted avg       0.66      0.66      0.66    853272\n",
            "\n"
          ]
        }
      ]
    },
    {
      "cell_type": "markdown",
      "source": [
        "# 特徵工程\n",
        "\n"
      ],
      "metadata": {
        "id": "q0w3AqNWb4Fh"
      }
    },
    {
      "cell_type": "code",
      "source": [
        "from google.cloud import bigquery\n",
        "import os\n",
        "\n",
        "# 設置服務帳戶憑據\n",
        "os.environ[\"GOOGLE_APPLICATION_CREDENTIALS\"] = \"/content/final-445615-7590bb2d51fb.json\"\n",
        "\n",
        "# 初始化 BigQuery 客戶端\n",
        "client = bigquery.Client()\n",
        "# 執行查詢並保存為 CSV\n",
        "query = \"\"\"\n",
        "SELECT *\n",
        "FROM `final-445615.ml_data.1231_new_10`\n",
        "\"\"\"\n",
        "full_df = client.query(query).to_dataframe()\n",
        "full_df.to_csv(\"stackoverflow_data.csv\", index=False)\n",
        "print(\"Data exported to local file: stackoverflow_data.csv\")"
      ],
      "metadata": {
        "colab": {
          "base_uri": "https://localhost:8080/"
        },
        "id": "UTKS1q-iFIHT",
        "outputId": "8bb62de2-b02b-412e-e056-0f4cdbb8ad21"
      },
      "execution_count": null,
      "outputs": [
        {
          "output_type": "stream",
          "name": "stdout",
          "text": [
            "Data exported to local file: stackoverflow_data.csv\n"
          ]
        }
      ]
    },
    {
      "cell_type": "code",
      "source": [
        "from sklearn.model_selection import train_test_split\n",
        "from sklearn.preprocessing import StandardScaler\n",
        "\n",
        "# 選擇特徵和目標欄位\n",
        "target = \"classification_label\"\n",
        "features = [col for col in full_df.columns if col != target]# 動態生成 features 列表，排除目標欄位\n",
        "\n",
        "# 分離特徵與目標\n",
        "X = full_df[features]\n",
        "y = full_df[target]\n",
        "\n",
        "\n",
        "# One-Hot Encoding 非數值特徵\n",
        "X = pd.get_dummies(X, columns=['score_range'], drop_first=True)\n",
        "\n",
        "# 分割數據集為訓練集和測試集\n",
        "X_train, X_test, y_train, y_test = train_test_split(X, y, test_size=0.2, random_state=42)\n",
        "\n",
        "# # 標準化數據\n",
        "# scaler = StandardScaler()\n",
        "# X_train = scaler.fit_transform(X_train)\n",
        "# X_test = scaler.transform(X_test)"
      ],
      "metadata": {
        "id": "PfeaPG88GFac"
      },
      "execution_count": null,
      "outputs": []
    },
    {
      "cell_type": "markdown",
      "source": [
        "## 隨機森林"
      ],
      "metadata": {
        "id": "jrf20ZYfILg2"
      }
    },
    {
      "cell_type": "code",
      "source": [
        "from sklearn.ensemble import RandomForestClassifier\n",
        "from sklearn.metrics import classification_report, accuracy_score, precision_score, recall_score, f1_score\n",
        "from sklearn.model_selection import train_test_split\n",
        "import pandas as pd\n",
        "\n",
        "\n",
        "# 初始化隨機森林分類器\n",
        "clf = RandomForestClassifier(\n",
        "    n_estimators=100,\n",
        "    max_depth=20,\n",
        "    min_samples_split=5,\n",
        "    random_state=42,\n",
        "    n_jobs=-1\n",
        ")\n",
        "\n",
        "# 訓練模型\n",
        "clf.fit(X_train, y_train)\n",
        "\n",
        "# 預測測試集\n",
        "y_pred = clf.predict(X_test)\n",
        "\n",
        "# 性能評估\n",
        "accuracy = accuracy_score(y_test, y_pred)\n",
        "precision = precision_score(y_test, y_pred, zero_division=0)\n",
        "recall = recall_score(y_test, y_pred, zero_division=0)\n",
        "f1 = f1_score(y_test, y_pred, zero_division=0)\n",
        "\n",
        "# 打印評估指標\n",
        "print(\"Accuracy:\", accuracy)\n",
        "print(\"Precision:\", precision)\n",
        "print(\"Recall:\", recall)\n",
        "print(\"F1 Score:\", f1)\n",
        "print(\"\\nClassification Report:\\n\", classification_report(y_test, y_pred))\n"
      ],
      "metadata": {
        "colab": {
          "base_uri": "https://localhost:8080/"
        },
        "id": "6cP8hXM1Gk5-",
        "outputId": "f7d4f121-05df-4cc8-defd-3c2794886e65"
      },
      "execution_count": null,
      "outputs": [
        {
          "output_type": "stream",
          "name": "stdout",
          "text": [
            "Accuracy: 0.8907730447480727\n",
            "Precision: 0.5114029025570145\n",
            "Recall: 0.07643048956827102\n",
            "F1 Score: 0.1329858927127325\n",
            "\n",
            "Classification Report:\n",
            "               precision    recall  f1-score   support\n",
            "\n",
            "         0.0       0.90      0.99      0.94     78657\n",
            "         1.0       0.51      0.08      0.13      9682\n",
            "\n",
            "    accuracy                           0.89     88339\n",
            "   macro avg       0.70      0.53      0.54     88339\n",
            "weighted avg       0.85      0.89      0.85     88339\n",
            "\n"
          ]
        }
      ]
    },
    {
      "cell_type": "markdown",
      "source": [
        "## XGB"
      ],
      "metadata": {
        "id": "YuGwS0PFINyX"
      }
    },
    {
      "cell_type": "code",
      "source": [
        "from sklearn.model_selection import train_test_split\n",
        "from sklearn.preprocessing import StandardScaler\n",
        "import pandas as pd\n",
        "\n",
        "# 選擇特徵和目標欄位\n",
        "target = \"classification_label\"\n",
        "features = [col for col in full_df.columns if col != target]\n",
        "\n",
        "# 分離特徵與目標\n",
        "X = full_df[features]\n",
        "y = full_df[target]\n",
        "\n",
        "# 確保目標變數為整數類型\n",
        "y = y.fillna(0).astype('int64')\n",
        "\n",
        "# 填補缺失值\n",
        "X = X.fillna(0)\n",
        "\n",
        "# One-Hot Encoding 非數值特徵\n",
        "if 'score_range' in X.columns:\n",
        "    X = pd.get_dummies(X, columns=['score_range'], drop_first=True)\n",
        "\n",
        "# 分割數據集為訓練集和測試集\n",
        "X_train, X_test, y_train, y_test = train_test_split(X, y, test_size=0.2, random_state=42, stratify=y)\n",
        "\n",
        "# 獲取數值型列\n",
        "numeric_cols = X_train.select_dtypes(include=['int64', 'float64']).columns\n",
        "\n",
        "# 特徵縮放\n",
        "scaler = StandardScaler()\n",
        "X_train[numeric_cols] = scaler.fit_transform(X_train[numeric_cols])\n",
        "X_test[numeric_cols] = scaler.transform(X_test[numeric_cols])\n",
        "\n",
        "print(\"Data preprocessing completed successfully!\")\n"
      ],
      "metadata": {
        "colab": {
          "base_uri": "https://localhost:8080/"
        },
        "id": "KkIiVmz6IwQk",
        "outputId": "c50ea6f0-4346-4d1e-dd56-dbc51a2a01c4"
      },
      "execution_count": null,
      "outputs": [
        {
          "output_type": "stream",
          "name": "stdout",
          "text": [
            "Data preprocessing completed successfully!\n"
          ]
        }
      ]
    },
    {
      "cell_type": "code",
      "source": [
        "from xgboost import XGBClassifier\n",
        "from sklearn.metrics import classification_report, accuracy_score, precision_score, recall_score, f1_score\n",
        "from sklearn.model_selection import train_test_split\n",
        "from imblearn.over_sampling import SMOTE\n",
        "import pandas as pd\n",
        "\n",
        "\n",
        "\n",
        "# 初始化 XGBoost 模型\n",
        "xgb_clf = XGBClassifier(\n",
        "    n_estimators=100,\n",
        "    max_depth=6,\n",
        "    learning_rate=0.1,\n",
        "    subsample=0.8,\n",
        "    colsample_bytree=0.8,\n",
        "    scale_pos_weight=10,  # 平衡正負樣本（需根據類別比例調整）\n",
        "    random_state=42,\n",
        "    use_label_encoder=False,\n",
        "    eval_metric=\"logloss\"\n",
        ")\n",
        "\n",
        "# 訓練模型\n",
        "xgb_clf.fit(X_train, y_train)\n",
        "\n",
        "# 預測\n",
        "y_pred = xgb_clf.predict(X_test)\n",
        "\n",
        "# 性能評估\n",
        "accuracy = accuracy_score(y_test, y_pred)\n",
        "precision = precision_score(y_test, y_pred, zero_division=0)\n",
        "recall = recall_score(y_test, y_pred, zero_division=0)\n",
        "f1 = f1_score(y_test, y_pred, zero_division=0)\n",
        "\n",
        "# 打印評估指標\n",
        "print(\"Accuracy:\", accuracy)\n",
        "print(\"Precision:\", precision)\n",
        "print(\"Recall:\", recall)\n",
        "print(\"F1 Score:\", f1)\n",
        "print(\"\\nClassification Report:\\n\", classification_report(y_test, y_pred))\n"
      ],
      "metadata": {
        "colab": {
          "base_uri": "https://localhost:8080/",
          "height": 219
        },
        "id": "hDwJRR9mIPDk",
        "outputId": "b40ca54c-b077-41d7-e7eb-e8b9aae895f2"
      },
      "execution_count": null,
      "outputs": [
        {
          "output_type": "error",
          "ename": "NameError",
          "evalue": "name 'X_train' is not defined",
          "traceback": [
            "\u001b[0;31m---------------------------------------------------------------------------\u001b[0m",
            "\u001b[0;31mNameError\u001b[0m                                 Traceback (most recent call last)",
            "\u001b[0;32m<ipython-input-5-bc94af9d77a2>\u001b[0m in \u001b[0;36m<cell line: 23>\u001b[0;34m()\u001b[0m\n\u001b[1;32m     21\u001b[0m \u001b[0;34m\u001b[0m\u001b[0m\n\u001b[1;32m     22\u001b[0m \u001b[0;31m# 訓練模型\u001b[0m\u001b[0;34m\u001b[0m\u001b[0;34m\u001b[0m\u001b[0m\n\u001b[0;32m---> 23\u001b[0;31m \u001b[0mxgb_clf\u001b[0m\u001b[0;34m.\u001b[0m\u001b[0mfit\u001b[0m\u001b[0;34m(\u001b[0m\u001b[0mX_train\u001b[0m\u001b[0;34m,\u001b[0m \u001b[0my_train\u001b[0m\u001b[0;34m)\u001b[0m\u001b[0;34m\u001b[0m\u001b[0;34m\u001b[0m\u001b[0m\n\u001b[0m\u001b[1;32m     24\u001b[0m \u001b[0;34m\u001b[0m\u001b[0m\n\u001b[1;32m     25\u001b[0m \u001b[0;31m# 預測\u001b[0m\u001b[0;34m\u001b[0m\u001b[0;34m\u001b[0m\u001b[0m\n",
            "\u001b[0;31mNameError\u001b[0m: name 'X_train' is not defined"
          ]
        }
      ]
    },
    {
      "cell_type": "markdown",
      "source": [
        "# 調整0/1比例"
      ],
      "metadata": {
        "id": "sDzshVVbOh4c"
      }
    },
    {
      "cell_type": "code",
      "source": [
        "from google.cloud import bigquery\n",
        "import os\n",
        "\n",
        "# 設置服務帳戶憑據\n",
        "os.environ[\"GOOGLE_APPLICATION_CREDENTIALS\"] = \"/content/final-445615-7590bb2d51fb.json\"\n",
        "\n",
        "# 初始化 BigQuery 客戶端\n",
        "client = bigquery.Client()\n",
        "# 執行查詢並保存為 CSV\n",
        "query = \"\"\"\n",
        "SELECT *\n",
        "FROM `final-445615.ml_data.1231_new_10_adj`\n",
        "\"\"\"\n",
        "full_df = client.query(query).to_dataframe()\n",
        "full_df.to_csv(\"stackoverflow_data_adj.csv\", index=False)\n",
        "print(\"Data exported to local file: stackoverflow_data_adj.csv\")"
      ],
      "metadata": {
        "colab": {
          "base_uri": "https://localhost:8080/"
        },
        "id": "ovFZG9WeOk_i",
        "outputId": "799be17a-e66b-4d01-9ec4-4beb01f4d266"
      },
      "execution_count": null,
      "outputs": [
        {
          "output_type": "stream",
          "name": "stdout",
          "text": [
            "Data exported to local file: stackoverflow_data_adj.csv\n"
          ]
        }
      ]
    },
    {
      "cell_type": "code",
      "source": [
        "from sklearn.model_selection import train_test_split\n",
        "from sklearn.preprocessing import StandardScaler\n",
        "\n",
        "# 選擇特徵和目標欄位\n",
        "target = \"classification_label\"\n",
        "features = [col for col in full_df.columns if col != target]# 動態生成 features 列表，排除目標欄位\n",
        "\n",
        "# 分離特徵與目標\n",
        "X = full_df[features]\n",
        "y = full_df[target]\n",
        "\n",
        "\n",
        "# One-Hot Encoding 非數值特徵\n",
        "X = pd.get_dummies(X, columns=['score_range'], drop_first=True)\n",
        "\n",
        "# 分割數據集為訓練集和測試集\n",
        "X_train, X_test, y_train, y_test = train_test_split(X, y, test_size=0.2, random_state=42)\n"
      ],
      "metadata": {
        "id": "wSqHyavPOsiI"
      },
      "execution_count": null,
      "outputs": []
    },
    {
      "cell_type": "markdown",
      "source": [
        "RF"
      ],
      "metadata": {
        "id": "G5hPQ_ErQ8Qn"
      }
    },
    {
      "cell_type": "code",
      "source": [
        "from sklearn.ensemble import RandomForestClassifier\n",
        "from sklearn.metrics import classification_report, accuracy_score, precision_score, recall_score, f1_score\n",
        "from sklearn.model_selection import train_test_split\n",
        "import pandas as pd\n",
        "\n",
        "\n",
        "# 初始化隨機森林分類器\n",
        "clf = RandomForestClassifier(\n",
        "    n_estimators=200,\n",
        "    max_depth=20,\n",
        "    min_samples_split=10,\n",
        "    random_state=42,\n",
        "    n_jobs=-1\n",
        ")\n",
        "\n",
        "# 訓練模型\n",
        "clf.fit(X_train, y_train)\n",
        "\n",
        "# 預測測試集\n",
        "y_pred = clf.predict(X_test)\n",
        "\n",
        "# 性能評估\n",
        "accuracy = accuracy_score(y_test, y_pred)\n",
        "precision = precision_score(y_test, y_pred, zero_division=0)\n",
        "recall = recall_score(y_test, y_pred, zero_division=0)\n",
        "f1 = f1_score(y_test, y_pred, zero_division=0)\n",
        "\n",
        "# 打印評估指標\n",
        "print(\"Accuracy:\", accuracy)\n",
        "print(\"Precision:\", precision)\n",
        "print(\"Recall:\", recall)\n",
        "print(\"F1 Score:\", f1)\n",
        "print(\"\\nClassification Report:\\n\", classification_report(y_test, y_pred))\n"
      ],
      "metadata": {
        "colab": {
          "base_uri": "https://localhost:8080/"
        },
        "id": "9pNBpLygOvnH",
        "outputId": "b9557e88-0382-4c30-cabd-b007f54f9e0e"
      },
      "execution_count": null,
      "outputs": [
        {
          "output_type": "stream",
          "name": "stdout",
          "text": [
            "Accuracy: 0.7318550879940651\n",
            "Precision: 0.7043725960843287\n",
            "Recall: 0.7237757042672055\n",
            "F1 Score: 0.7139423429233046\n",
            "\n",
            "Classification Report:\n",
            "               precision    recall  f1-score   support\n",
            "\n",
            "         0.0       0.76      0.74      0.75     78274\n",
            "         1.0       0.70      0.72      0.71     67304\n",
            "\n",
            "    accuracy                           0.73    145578\n",
            "   macro avg       0.73      0.73      0.73    145578\n",
            "weighted avg       0.73      0.73      0.73    145578\n",
            "\n"
          ]
        }
      ]
    },
    {
      "cell_type": "markdown",
      "source": [
        "XGB"
      ],
      "metadata": {
        "id": "CS5-Y-E0Q9bQ"
      }
    },
    {
      "cell_type": "code",
      "source": [
        "from xgboost import XGBClassifier\n",
        "from sklearn.metrics import classification_report, accuracy_score, precision_score, recall_score, f1_score\n",
        "from sklearn.model_selection import train_test_split\n",
        "import pandas as pd\n",
        "\n",
        "# 初始化 XGBoost 分類器\n",
        "xgb_clf = XGBClassifier(\n",
        "    n_estimators=100,       # 樹的數量\n",
        "    max_depth=20,           # 最大樹深度\n",
        "    learning_rate=0.1,      # 學習率\n",
        "    subsample=0.8,          # 每棵樹的樣本子集比例\n",
        "    colsample_bytree=0.8,   # 每棵樹的特徵子集比例\n",
        "    random_state=42,        # 保持結果一致\n",
        "    use_label_encoder=False,  # 禁用舊版標籤編碼\n",
        "    eval_metric=\"logloss\"   # 評估指標\n",
        ")\n",
        "\n",
        "# 訓練模型\n",
        "xgb_clf.fit(X_train, y_train)\n",
        "\n",
        "# 預測測試集\n",
        "y_pred = xgb_clf.predict(X_test)\n",
        "\n",
        "# 性能評估\n",
        "accuracy = accuracy_score(y_test, y_pred)\n",
        "precision = precision_score(y_test, y_pred, zero_division=0)\n",
        "recall = recall_score(y_test, y_pred, zero_division=0)\n",
        "f1 = f1_score(y_test, y_pred, zero_division=0)\n",
        "\n",
        "# 打印評估指標\n",
        "print(\"Accuracy:\", accuracy)\n",
        "print(\"Precision:\", precision)\n",
        "print(\"Recall:\", recall)\n",
        "print(\"F1 Score:\", f1)\n",
        "print(\"\\nClassification Report:\\n\", classification_report(y_test, y_pred))\n"
      ],
      "metadata": {
        "colab": {
          "base_uri": "https://localhost:8080/"
        },
        "id": "3i2SH_4-Q-Ph",
        "outputId": "cc0fa6c7-cd4c-4be4-c608-c30ccb0f42b1"
      },
      "execution_count": null,
      "outputs": [
        {
          "output_type": "stream",
          "name": "stderr",
          "text": [
            "/usr/local/lib/python3.10/dist-packages/xgboost/core.py:158: UserWarning: [10:30:07] WARNING: /workspace/src/learner.cc:740: \n",
            "Parameters: { \"use_label_encoder\" } are not used.\n",
            "\n",
            "  warnings.warn(smsg, UserWarning)\n"
          ]
        },
        {
          "output_type": "stream",
          "name": "stdout",
          "text": [
            "Accuracy: 0.7183159543337593\n",
            "Precision: 0.6897960362024914\n",
            "Recall: 0.7100172352311899\n",
            "F1 Score: 0.6997605816328772\n",
            "\n",
            "Classification Report:\n",
            "               precision    recall  f1-score   support\n",
            "\n",
            "         0.0       0.74      0.73      0.73     78274\n",
            "         1.0       0.69      0.71      0.70     67304\n",
            "\n",
            "    accuracy                           0.72    145578\n",
            "   macro avg       0.72      0.72      0.72    145578\n",
            "weighted avg       0.72      0.72      0.72    145578\n",
            "\n"
          ]
        }
      ]
    },
    {
      "cell_type": "markdown",
      "source": [
        "# test"
      ],
      "metadata": {
        "id": "DasWM1HBqxMQ"
      }
    },
    {
      "cell_type": "code",
      "source": [
        "from sklearn.ensemble import RandomForestClassifier\n",
        "from sklearn.metrics import classification_report, accuracy_score, precision_score, recall_score, f1_score\n",
        "from sklearn.model_selection import train_test_split\n",
        "\n",
        "# 初始化隨機森林分類器，增加 class_weight\n",
        "clf = RandomForestClassifier(\n",
        "    n_estimators=100,\n",
        "    max_depth=20,\n",
        "    min_samples_split=5,\n",
        "    random_state=42,\n",
        "    n_jobs=-1,\n",
        "    class_weight={0: 1.2, 1: 1}  # 加重類別 0 的懲罰\n",
        ")\n",
        "\n",
        "# 訓練模型\n",
        "clf.fit(X_train, y_train)\n",
        "\n",
        "# 預測測試集\n",
        "y_pred = clf.predict(X_test)\n",
        "\n",
        "# 性能評估\n",
        "accuracy = accuracy_score(y_test, y_pred)\n",
        "precision = precision_score(y_test, y_pred, zero_division=0)\n",
        "recall = recall_score(y_test, y_pred, zero_division=0)\n",
        "f1 = f1_score(y_test, y_pred, zero_division=0)\n",
        "\n",
        "# 打印評估指標\n",
        "print(\"Accuracy:\", accuracy)\n",
        "print(\"Precision:\", precision)\n",
        "print(\"Recall:\", recall)\n",
        "print(\"F1 Score:\", f1)\n",
        "print(\"\\nClassification Report:\\n\", classification_report(y_test, y_pred))\n"
      ],
      "metadata": {
        "colab": {
          "base_uri": "https://localhost:8080/"
        },
        "id": "KfT0hYlazd00",
        "outputId": "0ba92896-6b93-4249-856b-66c87f2a4b56"
      },
      "execution_count": null,
      "outputs": [
        {
          "output_type": "stream",
          "name": "stdout",
          "text": [
            "Accuracy: 0.7286884007198889\n",
            "Precision: 0.7183510011778563\n",
            "Recall: 0.6796178533222393\n",
            "F1 Score: 0.6984478427839578\n",
            "\n",
            "Classification Report:\n",
            "               precision    recall  f1-score   support\n",
            "\n",
            "         0.0       0.74      0.77      0.75     78274\n",
            "         1.0       0.72      0.68      0.70     67304\n",
            "\n",
            "    accuracy                           0.73    145578\n",
            "   macro avg       0.73      0.73      0.73    145578\n",
            "weighted avg       0.73      0.73      0.73    145578\n",
            "\n"
          ]
        }
      ]
    },
    {
      "cell_type": "code",
      "source": [
        "import pandas as pd\n",
        "from IPython.display import display, HTML\n",
        "\n",
        "# 讀取 JSON 檔案\n",
        "data = pd.read_json(\"/content/bquxjob_443d9b92_1941cf22ec2.json\")\n",
        "\n",
        "# 確認使用的特徵列\n",
        "features = [\n",
        "    \"answer_comment_count\",\n",
        "    \"answerer_reputation\",\n",
        "    \"answerer_net_votes\",\n",
        "    \"answerer_total_ans_count\",\n",
        "    \"user_tenure\",\n",
        "    \"score_range\"\n",
        "]\n",
        "\n",
        "# 獲取特徵數據\n",
        "X = data[features]\n",
        "\n",
        "# One-Hot Encoding 非數值特徵\n",
        "X = pd.get_dummies(X, columns=['score_range'], drop_first=True)\n",
        "\n",
        "# 確保特徵順序與訓練一致\n",
        "expected_columns = clf.feature_names_in_  # 確認模型訓練時的特徵名稱\n",
        "for col in expected_columns:\n",
        "    if col not in X.columns:\n",
        "        X[col] = 0  # 如果缺失特徵，補充為 0\n",
        "X = X[expected_columns]  # 按訓練時的順序排列\n",
        "\n",
        "# 使用 clf 模型進行預測\n",
        "predicted_probs = clf.predict_proba(X)[:, 1]  # 預測目標為 1 的概率\n",
        "\n",
        "# 添加燈號\n",
        "def get_light(prob):\n",
        "    if prob >= 0.7:\n",
        "        return \"綠燈\"\n",
        "    elif prob >= 0.3:\n",
        "        return \"黃燈\"\n",
        "    else:\n",
        "        return \"無燈\"\n",
        "\n",
        "data[\"Predicted Probability\"] = predicted_probs\n",
        "data[\"Light\"] = data[\"Predicted Probability\"].apply(get_light)\n",
        "\n",
        "# 添加小球樣式\n",
        "def add_ball(light):\n",
        "    if light == \"綠燈\":\n",
        "        color = \"#28a745\"  # 綠色\n",
        "    elif light == \"黃燈\":\n",
        "        color = \"#ffc107\"  # 黃色\n",
        "    elif light == \"無燈\":\n",
        "        color = \"#E0E0E0\"  # 無色\n",
        "    else:\n",
        "        color = \"red\"  # 默認紅色\n",
        "    return f'<div style=\"width: 16px; height: 16px; background-color: {color}; border-radius: 50%; margin: auto;\"></div>'\n",
        "\n",
        "data[\"Light Ball\"] = data[\"Light\"].apply(add_ball)\n",
        "\n",
        "# 選擇要顯示的列\n",
        "output_columns = [\n",
        "    \"classification_label\",\n",
        "    \"Predicted Probability\",\n",
        "    \"Light Ball\"\n",
        "]\n",
        "\n",
        "output_data = data[output_columns]\n",
        "\n",
        "# 將 DataFrame 轉換為 HTML\n",
        "html_table = output_data.to_html(escape=False, index=False)\n",
        "\n",
        "# 顯示帶有圓形小球的表格\n",
        "display(HTML(html_table))\n"
      ],
      "metadata": {
        "colab": {
          "base_uri": "https://localhost:8080/",
          "height": 676
        },
        "id": "Hb_WRTOFt9RL",
        "outputId": "0a7e3749-901b-442e-89c3-afd2d7596b5f"
      },
      "execution_count": null,
      "outputs": [
        {
          "output_type": "display_data",
          "data": {
            "text/plain": [
              "<IPython.core.display.HTML object>"
            ],
            "text/html": [
              "<table border=\"1\" class=\"dataframe\">\n",
              "  <thead>\n",
              "    <tr style=\"text-align: right;\">\n",
              "      <th>classification_label</th>\n",
              "      <th>Predicted Probability</th>\n",
              "      <th>Light Ball</th>\n",
              "    </tr>\n",
              "  </thead>\n",
              "  <tbody>\n",
              "    <tr>\n",
              "      <td>0</td>\n",
              "      <td>0.174535</td>\n",
              "      <td><div style=\"width: 16px; height: 16px; background-color: #E0E0E0; border-radius: 50%; margin: auto;\"></div></td>\n",
              "    </tr>\n",
              "    <tr>\n",
              "      <td>0</td>\n",
              "      <td>0.059761</td>\n",
              "      <td><div style=\"width: 16px; height: 16px; background-color: #E0E0E0; border-radius: 50%; margin: auto;\"></div></td>\n",
              "    </tr>\n",
              "    <tr>\n",
              "      <td>1</td>\n",
              "      <td>0.372554</td>\n",
              "      <td><div style=\"width: 16px; height: 16px; background-color: #ffc107; border-radius: 50%; margin: auto;\"></div></td>\n",
              "    </tr>\n",
              "    <tr>\n",
              "      <td>0</td>\n",
              "      <td>0.000000</td>\n",
              "      <td><div style=\"width: 16px; height: 16px; background-color: #E0E0E0; border-radius: 50%; margin: auto;\"></div></td>\n",
              "    </tr>\n",
              "    <tr>\n",
              "      <td>0</td>\n",
              "      <td>0.625798</td>\n",
              "      <td><div style=\"width: 16px; height: 16px; background-color: #ffc107; border-radius: 50%; margin: auto;\"></div></td>\n",
              "    </tr>\n",
              "    <tr>\n",
              "      <td>0</td>\n",
              "      <td>0.707985</td>\n",
              "      <td><div style=\"width: 16px; height: 16px; background-color: #28a745; border-radius: 50%; margin: auto;\"></div></td>\n",
              "    </tr>\n",
              "    <tr>\n",
              "      <td>0</td>\n",
              "      <td>0.469712</td>\n",
              "      <td><div style=\"width: 16px; height: 16px; background-color: #ffc107; border-radius: 50%; margin: auto;\"></div></td>\n",
              "    </tr>\n",
              "    <tr>\n",
              "      <td>1</td>\n",
              "      <td>0.696179</td>\n",
              "      <td><div style=\"width: 16px; height: 16px; background-color: #ffc107; border-radius: 50%; margin: auto;\"></div></td>\n",
              "    </tr>\n",
              "    <tr>\n",
              "      <td>0</td>\n",
              "      <td>0.166518</td>\n",
              "      <td><div style=\"width: 16px; height: 16px; background-color: #E0E0E0; border-radius: 50%; margin: auto;\"></div></td>\n",
              "    </tr>\n",
              "    <tr>\n",
              "      <td>0</td>\n",
              "      <td>0.035294</td>\n",
              "      <td><div style=\"width: 16px; height: 16px; background-color: #E0E0E0; border-radius: 50%; margin: auto;\"></div></td>\n",
              "    </tr>\n",
              "    <tr>\n",
              "      <td>1</td>\n",
              "      <td>0.831748</td>\n",
              "      <td><div style=\"width: 16px; height: 16px; background-color: #28a745; border-radius: 50%; margin: auto;\"></div></td>\n",
              "    </tr>\n",
              "    <tr>\n",
              "      <td>0</td>\n",
              "      <td>0.092795</td>\n",
              "      <td><div style=\"width: 16px; height: 16px; background-color: #E0E0E0; border-radius: 50%; margin: auto;\"></div></td>\n",
              "    </tr>\n",
              "    <tr>\n",
              "      <td>0</td>\n",
              "      <td>0.088916</td>\n",
              "      <td><div style=\"width: 16px; height: 16px; background-color: #E0E0E0; border-radius: 50%; margin: auto;\"></div></td>\n",
              "    </tr>\n",
              "    <tr>\n",
              "      <td>0</td>\n",
              "      <td>0.000000</td>\n",
              "      <td><div style=\"width: 16px; height: 16px; background-color: #E0E0E0; border-radius: 50%; margin: auto;\"></div></td>\n",
              "    </tr>\n",
              "    <tr>\n",
              "      <td>0</td>\n",
              "      <td>0.681506</td>\n",
              "      <td><div style=\"width: 16px; height: 16px; background-color: #ffc107; border-radius: 50%; margin: auto;\"></div></td>\n",
              "    </tr>\n",
              "    <tr>\n",
              "      <td>0</td>\n",
              "      <td>0.102646</td>\n",
              "      <td><div style=\"width: 16px; height: 16px; background-color: #E0E0E0; border-radius: 50%; margin: auto;\"></div></td>\n",
              "    </tr>\n",
              "    <tr>\n",
              "      <td>0</td>\n",
              "      <td>0.528124</td>\n",
              "      <td><div style=\"width: 16px; height: 16px; background-color: #ffc107; border-radius: 50%; margin: auto;\"></div></td>\n",
              "    </tr>\n",
              "    <tr>\n",
              "      <td>0</td>\n",
              "      <td>0.411142</td>\n",
              "      <td><div style=\"width: 16px; height: 16px; background-color: #ffc107; border-radius: 50%; margin: auto;\"></div></td>\n",
              "    </tr>\n",
              "    <tr>\n",
              "      <td>1</td>\n",
              "      <td>0.842468</td>\n",
              "      <td><div style=\"width: 16px; height: 16px; background-color: #28a745; border-radius: 50%; margin: auto;\"></div></td>\n",
              "    </tr>\n",
              "    <tr>\n",
              "      <td>0</td>\n",
              "      <td>0.020135</td>\n",
              "      <td><div style=\"width: 16px; height: 16px; background-color: #E0E0E0; border-radius: 50%; margin: auto;\"></div></td>\n",
              "    </tr>\n",
              "  </tbody>\n",
              "</table>"
            ]
          },
          "metadata": {}
        }
      ]
    },
    {
      "cell_type": "code",
      "source": [
        "import pandas as pd\n",
        "from IPython.display import display, HTML\n",
        "\n",
        "# 讀取 JSON 檔案\n",
        "data = pd.read_json(\"/content/bquxjob_52fa1ef7_1941cd3a625.json\")\n",
        "\n",
        "# 確認使用的特徵列\n",
        "features = [\n",
        "    \"answer_comment_count\",\n",
        "    \"answerer_reputation\",\n",
        "    \"answerer_net_votes\",\n",
        "    \"answerer_total_ans_count\",\n",
        "    \"user_tenure\",\n",
        "    \"score_range\"\n",
        "]\n",
        "\n",
        "# 獲取特徵數據\n",
        "X = data[features]\n",
        "\n",
        "# One-Hot Encoding 非數值特徵\n",
        "X = pd.get_dummies(X, columns=['score_range'], drop_first=True)\n",
        "\n",
        "# 確保特徵順序與訓練一致\n",
        "expected_columns = clf.feature_names_in_  # 確認模型訓練時的特徵名稱\n",
        "for col in expected_columns:\n",
        "    if col not in X.columns:\n",
        "        X[col] = 0  # 如果缺失特徵，補充為 0\n",
        "X = X[expected_columns]  # 按訓練時的順序排列\n",
        "\n",
        "# 使用 clf 模型進行預測\n",
        "y_pred = clf.predict(X)  # 預測類別\n",
        "\n",
        "# 添加燈號\n",
        "\n",
        "def get_light(pred):\n",
        "    if pred == 1:\n",
        "        return \"綠燈\"\n",
        "    else:\n",
        "        return \"無燈\"\n",
        "\n",
        "data[\"Predicted Class\"] = y_pred\n",
        "data[\"Light\"] = data[\"Predicted Class\"].apply(get_light)\n",
        "\n",
        "# 添加小球樣式\n",
        "def add_ball(light):\n",
        "    if light == \"綠燈\":\n",
        "        color = \"#28a745\"  # 綠色\n",
        "    elif light == \"無燈\":\n",
        "        color = \"#E0E0E0\"  # 無色\n",
        "    else:\n",
        "        color = \"red\"  # 默認紅色\n",
        "    return f'<div style=\"width: 16px; height: 16px; background-color: {color}; border-radius: 50%; margin: auto;\"></div>'\n",
        "\n",
        "data[\"Light Ball\"] = data[\"Light\"].apply(add_ball)\n",
        "\n",
        "# 選擇要顯示的列\n",
        "output_columns = [\n",
        "    \"classification_label\",\n",
        "    \"Predicted Class\",\n",
        "    \"Light Ball\"\n",
        "]\n",
        "\n",
        "output_data = data[output_columns]\n",
        "\n",
        "# 將 DataFrame 轉換為 HTML\n",
        "html_table = output_data.to_html(escape=False, index=False)\n",
        "\n",
        "# 顯示帶有圓形小球的表格\n",
        "display(HTML(html_table))\n"
      ],
      "metadata": {
        "colab": {
          "base_uri": "https://localhost:8080/",
          "height": 519
        },
        "id": "aHuZd1RFzIbd",
        "outputId": "7c8970eb-d405-4b66-c6a5-7fc525d0789d"
      },
      "execution_count": null,
      "outputs": [
        {
          "output_type": "display_data",
          "data": {
            "text/plain": [
              "<IPython.core.display.HTML object>"
            ],
            "text/html": [
              "<table border=\"1\" class=\"dataframe\">\n",
              "  <thead>\n",
              "    <tr style=\"text-align: right;\">\n",
              "      <th>classification_label</th>\n",
              "      <th>Predicted Class</th>\n",
              "      <th>Light Ball</th>\n",
              "    </tr>\n",
              "  </thead>\n",
              "  <tbody>\n",
              "    <tr>\n",
              "      <td>0</td>\n",
              "      <td>0.0</td>\n",
              "      <td><div style=\"width: 16px; height: 16px; background-color: #E0E0E0; border-radius: 50%; margin: auto;\"></div></td>\n",
              "    </tr>\n",
              "    <tr>\n",
              "      <td>0</td>\n",
              "      <td>0.0</td>\n",
              "      <td><div style=\"width: 16px; height: 16px; background-color: #E0E0E0; border-radius: 50%; margin: auto;\"></div></td>\n",
              "    </tr>\n",
              "    <tr>\n",
              "      <td>0</td>\n",
              "      <td>0.0</td>\n",
              "      <td><div style=\"width: 16px; height: 16px; background-color: #E0E0E0; border-radius: 50%; margin: auto;\"></div></td>\n",
              "    </tr>\n",
              "    <tr>\n",
              "      <td>0</td>\n",
              "      <td>0.0</td>\n",
              "      <td><div style=\"width: 16px; height: 16px; background-color: #E0E0E0; border-radius: 50%; margin: auto;\"></div></td>\n",
              "    </tr>\n",
              "    <tr>\n",
              "      <td>1</td>\n",
              "      <td>0.0</td>\n",
              "      <td><div style=\"width: 16px; height: 16px; background-color: #E0E0E0; border-radius: 50%; margin: auto;\"></div></td>\n",
              "    </tr>\n",
              "    <tr>\n",
              "      <td>0</td>\n",
              "      <td>0.0</td>\n",
              "      <td><div style=\"width: 16px; height: 16px; background-color: #E0E0E0; border-radius: 50%; margin: auto;\"></div></td>\n",
              "    </tr>\n",
              "    <tr>\n",
              "      <td>1</td>\n",
              "      <td>0.0</td>\n",
              "      <td><div style=\"width: 16px; height: 16px; background-color: #E0E0E0; border-radius: 50%; margin: auto;\"></div></td>\n",
              "    </tr>\n",
              "    <tr>\n",
              "      <td>0</td>\n",
              "      <td>0.0</td>\n",
              "      <td><div style=\"width: 16px; height: 16px; background-color: #E0E0E0; border-radius: 50%; margin: auto;\"></div></td>\n",
              "    </tr>\n",
              "    <tr>\n",
              "      <td>0</td>\n",
              "      <td>0.0</td>\n",
              "      <td><div style=\"width: 16px; height: 16px; background-color: #E0E0E0; border-radius: 50%; margin: auto;\"></div></td>\n",
              "    </tr>\n",
              "    <tr>\n",
              "      <td>0</td>\n",
              "      <td>0.0</td>\n",
              "      <td><div style=\"width: 16px; height: 16px; background-color: #E0E0E0; border-radius: 50%; margin: auto;\"></div></td>\n",
              "    </tr>\n",
              "    <tr>\n",
              "      <td>0</td>\n",
              "      <td>0.0</td>\n",
              "      <td><div style=\"width: 16px; height: 16px; background-color: #E0E0E0; border-radius: 50%; margin: auto;\"></div></td>\n",
              "    </tr>\n",
              "    <tr>\n",
              "      <td>0</td>\n",
              "      <td>0.0</td>\n",
              "      <td><div style=\"width: 16px; height: 16px; background-color: #E0E0E0; border-radius: 50%; margin: auto;\"></div></td>\n",
              "    </tr>\n",
              "    <tr>\n",
              "      <td>0</td>\n",
              "      <td>0.0</td>\n",
              "      <td><div style=\"width: 16px; height: 16px; background-color: #E0E0E0; border-radius: 50%; margin: auto;\"></div></td>\n",
              "    </tr>\n",
              "    <tr>\n",
              "      <td>1</td>\n",
              "      <td>0.0</td>\n",
              "      <td><div style=\"width: 16px; height: 16px; background-color: #E0E0E0; border-radius: 50%; margin: auto;\"></div></td>\n",
              "    </tr>\n",
              "    <tr>\n",
              "      <td>0</td>\n",
              "      <td>0.0</td>\n",
              "      <td><div style=\"width: 16px; height: 16px; background-color: #E0E0E0; border-radius: 50%; margin: auto;\"></div></td>\n",
              "    </tr>\n",
              "  </tbody>\n",
              "</table>"
            ]
          },
          "metadata": {}
        }
      ]
    },
    {
      "cell_type": "code",
      "source": [
        "import pandas as pd\n",
        "from IPython.display import display, HTML\n",
        "\n",
        "# 讀取 JSON 檔案\n",
        "data = pd.read_json(\"/content/bquxjob_510393a6_1941ceeb87c.json\")\n",
        "\n",
        "# 確認使用的特徵列\n",
        "features = [\n",
        "    \"answer_comment_count\",\n",
        "    \"answerer_reputation\",\n",
        "    \"answerer_net_votes\",\n",
        "    \"answerer_total_ans_count\",\n",
        "    \"user_tenure\",\n",
        "    \"score_range\"\n",
        "]\n",
        "\n",
        "# 獲取特徵數據\n",
        "X = data[features]\n",
        "\n",
        "# One-Hot Encoding 非數值特徵\n",
        "X = pd.get_dummies(X, columns=['score_range'], drop_first=True)\n",
        "\n",
        "# 確保特徵順序與訓練一致\n",
        "expected_columns = clf.feature_names_in_  # 確認模型訓練時的特徵名稱\n",
        "for col in expected_columns:\n",
        "    if col not in X.columns:\n",
        "        X[col] = 0  # 如果缺失特徵，補充為 0\n",
        "X = X[expected_columns]  # 按訓練時的順序排列\n",
        "\n",
        "# 使用 clf 模型進行預測\n",
        "predicted_probs = clf.predict_proba(X)[:, 1]  # 預測目標為 1 的概率\n",
        "\n",
        "# 計算總體平均概率\n",
        "mean_prob = predicted_probs.mean()\n",
        "\n",
        "# 添加燈號\n",
        "def get_light(prob):\n",
        "    if prob >= mean_prob + 0.2:  # 高於平均值 0.25 的為綠燈\n",
        "        return \"綠燈\"\n",
        "    elif prob >= mean_prob :  # 在平均值 ±0.5 之間的為黃燈\n",
        "        return \"黃燈\"\n",
        "    else:\n",
        "        return \"無燈\"\n",
        "\n",
        "data[\"Predicted Probability\"] = predicted_probs\n",
        "data[\"Light\"] = data[\"Predicted Probability\"].apply(get_light)\n",
        "\n",
        "# 添加小球樣式\n",
        "def add_ball(light):\n",
        "    if light == \"綠燈\":\n",
        "        color = \"#28a745\"  # 綠色\n",
        "    elif light == \"黃燈\":\n",
        "        color = \"#ffc107\"  # 黃色\n",
        "    elif light == \"無燈\":\n",
        "        color = \"#E0E0E0\"  # 無色\n",
        "    else:\n",
        "        color = \"red\"  # 默認紅色\n",
        "    return f'<div style=\"width: 16px; height: 16px; background-color: {color}; border-radius: 50%; margin: auto;\"></div>'\n",
        "\n",
        "data[\"Light Ball\"] = data[\"Light\"].apply(add_ball)\n",
        "\n",
        "# 選擇要顯示的列\n",
        "output_columns = [\n",
        "    \"classification_label\",\n",
        "    \"Light Ball\"\n",
        "]\n",
        "\n",
        "output_data = data[output_columns]\n",
        "\n",
        "# 將 DataFrame 轉換為 HTML\n",
        "html_table = output_data.to_html(escape=False, index=False)\n",
        "\n",
        "# 顯示帶有圓形小球的表格\n",
        "display(HTML(html_table))\n"
      ],
      "metadata": {
        "colab": {
          "base_uri": "https://localhost:8080/",
          "height": 519
        },
        "id": "AA7aHrcU4Ci6",
        "outputId": "12045f4a-f152-45d3-8758-bef420f116b1"
      },
      "execution_count": null,
      "outputs": [
        {
          "output_type": "display_data",
          "data": {
            "text/plain": [
              "<IPython.core.display.HTML object>"
            ],
            "text/html": [
              "<table border=\"1\" class=\"dataframe\">\n",
              "  <thead>\n",
              "    <tr style=\"text-align: right;\">\n",
              "      <th>classification_label</th>\n",
              "      <th>Light Ball</th>\n",
              "    </tr>\n",
              "  </thead>\n",
              "  <tbody>\n",
              "    <tr>\n",
              "      <td>0</td>\n",
              "      <td><div style=\"width: 16px; height: 16px; background-color: #ffc107; border-radius: 50%; margin: auto;\"></div></td>\n",
              "    </tr>\n",
              "    <tr>\n",
              "      <td>1</td>\n",
              "      <td><div style=\"width: 16px; height: 16px; background-color: #ffc107; border-radius: 50%; margin: auto;\"></div></td>\n",
              "    </tr>\n",
              "    <tr>\n",
              "      <td>1</td>\n",
              "      <td><div style=\"width: 16px; height: 16px; background-color: #E0E0E0; border-radius: 50%; margin: auto;\"></div></td>\n",
              "    </tr>\n",
              "    <tr>\n",
              "      <td>0</td>\n",
              "      <td><div style=\"width: 16px; height: 16px; background-color: #E0E0E0; border-radius: 50%; margin: auto;\"></div></td>\n",
              "    </tr>\n",
              "    <tr>\n",
              "      <td>1</td>\n",
              "      <td><div style=\"width: 16px; height: 16px; background-color: #ffc107; border-radius: 50%; margin: auto;\"></div></td>\n",
              "    </tr>\n",
              "    <tr>\n",
              "      <td>1</td>\n",
              "      <td><div style=\"width: 16px; height: 16px; background-color: #E0E0E0; border-radius: 50%; margin: auto;\"></div></td>\n",
              "    </tr>\n",
              "    <tr>\n",
              "      <td>0</td>\n",
              "      <td><div style=\"width: 16px; height: 16px; background-color: #E0E0E0; border-radius: 50%; margin: auto;\"></div></td>\n",
              "    </tr>\n",
              "    <tr>\n",
              "      <td>0</td>\n",
              "      <td><div style=\"width: 16px; height: 16px; background-color: #ffc107; border-radius: 50%; margin: auto;\"></div></td>\n",
              "    </tr>\n",
              "    <tr>\n",
              "      <td>0</td>\n",
              "      <td><div style=\"width: 16px; height: 16px; background-color: #E0E0E0; border-radius: 50%; margin: auto;\"></div></td>\n",
              "    </tr>\n",
              "    <tr>\n",
              "      <td>1</td>\n",
              "      <td><div style=\"width: 16px; height: 16px; background-color: #E0E0E0; border-radius: 50%; margin: auto;\"></div></td>\n",
              "    </tr>\n",
              "    <tr>\n",
              "      <td>1</td>\n",
              "      <td><div style=\"width: 16px; height: 16px; background-color: #E0E0E0; border-radius: 50%; margin: auto;\"></div></td>\n",
              "    </tr>\n",
              "    <tr>\n",
              "      <td>0</td>\n",
              "      <td><div style=\"width: 16px; height: 16px; background-color: #E0E0E0; border-radius: 50%; margin: auto;\"></div></td>\n",
              "    </tr>\n",
              "    <tr>\n",
              "      <td>0</td>\n",
              "      <td><div style=\"width: 16px; height: 16px; background-color: #E0E0E0; border-radius: 50%; margin: auto;\"></div></td>\n",
              "    </tr>\n",
              "    <tr>\n",
              "      <td>1</td>\n",
              "      <td><div style=\"width: 16px; height: 16px; background-color: #ffc107; border-radius: 50%; margin: auto;\"></div></td>\n",
              "    </tr>\n",
              "    <tr>\n",
              "      <td>0</td>\n",
              "      <td><div style=\"width: 16px; height: 16px; background-color: #ffc107; border-radius: 50%; margin: auto;\"></div></td>\n",
              "    </tr>\n",
              "  </tbody>\n",
              "</table>"
            ]
          },
          "metadata": {}
        }
      ]
    },
    {
      "cell_type": "code",
      "source": [],
      "metadata": {
        "id": "RNpdOS0Y4cpw"
      },
      "execution_count": null,
      "outputs": []
    },
    {
      "cell_type": "markdown",
      "source": [
        "NLP TEST\n"
      ],
      "metadata": {
        "id": "b-o-IoCaekHE"
      }
    },
    {
      "cell_type": "code",
      "source": [
        "from google.cloud import bigquery\n",
        "import os\n",
        "\n",
        "# 設置服務帳戶憑據\n",
        "os.environ[\"GOOGLE_APPLICATION_CREDENTIALS\"] = \"/content/final-445615-7590bb2d51fb.json\"\n",
        "\n",
        "# 初始化 BigQuery 客戶端\n",
        "client = bigquery.Client()\n",
        "# 執行查詢並保存為 CSV\n",
        "query = \"\"\"\n",
        "SELECT *\n",
        "FROM `final-445615.ml_data.1231_new_001`\n",
        "\"\"\"\n",
        "full_df = client.query(query).to_dataframe()\n",
        "full_df.to_csv(\"stackoverflow_data_001.csv\", index=False)\n",
        "print(\"Data exported to local file: stackoverflow_data_001.csv\")"
      ],
      "metadata": {
        "colab": {
          "base_uri": "https://localhost:8080/"
        },
        "id": "pdHgldzYhwTB",
        "outputId": "e3ed3ce9-8839-484a-97fe-ea4e2bb1c2ef"
      },
      "execution_count": null,
      "outputs": [
        {
          "output_type": "stream",
          "name": "stdout",
          "text": [
            "Data exported to local file: stackoverflow_data_001.csv\n"
          ]
        }
      ]
    },
    {
      "cell_type": "code",
      "source": [
        "import pandas as pd\n",
        "import re\n",
        "from sklearn.feature_extraction.text import TfidfVectorizer\n",
        "from sklearn.metrics.pairwise import cosine_similarity\n",
        "from bs4 import BeautifulSoup\n",
        "\n",
        "# 讀取從 BigQuery 匯出的 CSV 檔案\n",
        "data_path = \"stackoverflow_data_001.csv\"  # 確保與導出的檔案名稱一致\n",
        "df = pd.read_csv(data_path)\n",
        "\n",
        "# 清理文本的函數\n",
        "def clean_text(text):\n",
        "    \"\"\"清理 HTML 並提取文本\"\"\"\n",
        "    soup = BeautifulSoup(text, \"html.parser\")\n",
        "    return soup.get_text() if text else \"\"\n",
        "\n",
        "# 特徵提取函數\n",
        "def extract_features(row):\n",
        "    \"\"\"針對每一行數據提取特徵\"\"\"\n",
        "    question_title = row['question_title']\n",
        "    question_body = row['question_body']\n",
        "    answer_body = row['answer_body']\n",
        "\n",
        "    # 清理文本\n",
        "    q_title_clean = clean_text(question_title)\n",
        "    q_body_clean = clean_text(question_body)\n",
        "    a_body_clean = clean_text(answer_body)\n",
        "\n",
        "    # 基本特徵\n",
        "    features = {\n",
        "        'question_length': len(q_title_clean.split()) + len(q_body_clean.split()),\n",
        "        'answer_length': len(a_body_clean.split()),\n",
        "        'num_code_blocks': len(re.findall(r'<code>.*?</code>', question_body)) + len(re.findall(r'<code>.*?</code>', answer_body)),\n",
        "        'contains_example_code': 1 if '<code>' in answer_body else 0,\n",
        "        'contains_links': 1 if re.search(r'http[s]?://', answer_body) else 0,\n",
        "    }\n",
        "\n",
        "    # 語義相似度 (TF-IDF)\n",
        "    texts = [q_title_clean, q_body_clean, a_body_clean]\n",
        "    tfidf = TfidfVectorizer().fit_transform(texts)\n",
        "    features['similarity_title_answer'] = cosine_similarity(tfidf[0], tfidf[2])[0, 0]\n",
        "    features['similarity_body_answer'] = cosine_similarity(tfidf[1], tfidf[2])[0, 0]\n",
        "\n",
        "    return features\n",
        "\n",
        "# 對所有數據提取特徵\n",
        "feature_list = []\n",
        "for index, row in df.iterrows():\n",
        "    feature_list.append(extract_features(row))\n",
        "\n",
        "# 轉為 DataFrame\n",
        "features_df = pd.DataFrame(feature_list)\n",
        "\n",
        "# 合併原始數據和特徵\n",
        "final_df = pd.concat([df, features_df], axis=1)\n",
        "\n",
        "# 保存結果為 CSV\n",
        "final_df.to_csv(\"stackoverflow_features.csv\", index=False)\n",
        "print(\"Features extracted and saved to stackoverflow_features.csv\")\n"
      ],
      "metadata": {
        "colab": {
          "base_uri": "https://localhost:8080/"
        },
        "id": "tpdV7IvKellm",
        "outputId": "879d9e63-c73d-424e-a6fe-17d53eb455df"
      },
      "execution_count": null,
      "outputs": [
        {
          "metadata": {
            "tags": null
          },
          "name": "stderr",
          "output_type": "stream",
          "text": [
            "<ipython-input-28-320d776a28b3>:14: MarkupResemblesLocatorWarning: The input looks more like a filename than markup. You may want to open this file and pass the filehandle into Beautiful Soup.\n",
            "  soup = BeautifulSoup(text, \"html.parser\")\n"
          ]
        }
      ]
    }
  ]
}