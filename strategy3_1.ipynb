{
 "cells": [
  {
   "cell_type": "code",
   "execution_count": null,
   "metadata": {},
   "outputs": [],
   "source": [
    "from google.cloud import bigquery\n",
    "import os\n",
    "import pandas as pd\n",
    "from sklearn.model_selection import train_test_split\n",
    "from sklearn.preprocessing import StandardScaler\n",
    "from sklearn.ensemble import RandomForestClassifier\n",
    "from sklearn.metrics import classification_report, accuracy_score\n",
    "\n",
    "# 設置服務帳戶憑據\n",
    "os.environ[\"GOOGLE_APPLICATION_CREDENTIALS\"] = \"final-445615-7590bb2d51fb.json\"\n",
    "\n",
    "# 初始化 BigQuery 客戶端\n",
    "client = bigquery.Client()\n",
    "\n",
    "# 執行查詢並直接轉為 DataFrame\n",
    "query = \"\"\"\n",
    "SELECT \n",
    "    answer_score, \n",
    "    answer_comment_count, \n",
    "    answerer_reputation,\n",
    "    user_tenure_seconds,\n",
    "    answerer_up_votes,\n",
    "    answerer_down_votes,\n",
    "    classification_label\n",
    "FROM `final-445615.ml_data.1231_sample30`\n",
    "\"\"\"\n",
    "print(\"Running BigQuery query...\")\n",
    "query_job = client.query(query)\n",
    "rows = [dict(row) for row in query_job.result()]  # 將結果轉為列表\n",
    "full_df = pd.DataFrame(rows)  # 將結果轉為 DataFrame\n",
    "print(\"Query completed. Data loaded into DataFrame.\")"
   ]
  },
  {
   "cell_type": "code",
   "execution_count": null,
   "metadata": {},
   "outputs": [
    {
     "name": "stdout",
     "output_type": "stream",
     "text": [
      "Running BigQuery query...\n",
      "Query completed. Data loaded into DataFrame.\n",
      "Training the model...\n",
      "Accuracy: 0.6368008095263006\n",
      "Classification Report:\n",
      "               precision    recall  f1-score   support\n",
      "\n",
      "           0       0.61      0.57      0.59    581020\n",
      "           1       0.66      0.69      0.68    699729\n",
      "\n",
      "    accuracy                           0.64   1280749\n",
      "   macro avg       0.63      0.63      0.63   1280749\n",
      "weighted avg       0.64      0.64      0.64   1280749\n",
      "\n"
     ]
    }
   ],
   "source": [
    "\n",
    "\n",
    "# 選擇特徵和目標欄位\n",
    "features = [\"answer_score\", \"answer_comment_count\", \"answerer_reputation\",\n",
    "            \"user_tenure_seconds\", \"answerer_up_votes\", \"answerer_down_votes\"]\n",
    "target = \"classification_label\"\n",
    "\n",
    "# 分離特徵與目標\n",
    "X = full_df[features]\n",
    "y = full_df[target]\n",
    "\n",
    "# 分割數據集為訓練集和測試集\n",
    "X_train, X_test, y_train, y_test = train_test_split(X, y, test_size=0.2, random_state=42)\n",
    "\n",
    "# 標準化數據\n",
    "scaler = StandardScaler()\n",
    "X_train = scaler.fit_transform(X_train)\n",
    "X_test = scaler.transform(X_test)\n",
    "\n",
    "# 初始化分類模型\n",
    "clf = RandomForestClassifier(n_estimators=50, random_state=42)\n",
    "\n",
    "# 訓練模型\n",
    "print(\"Training the model...\")\n",
    "clf.fit(X_train, y_train)\n",
    "\n",
    "# 測試模型\n",
    "y_pred = clf.predict(X_test)\n",
    "\n",
    "# 評估模型\n",
    "print(\"Accuracy:\", accuracy_score(y_test, y_pred))\n",
    "print(\"Classification Report:\\n\", classification_report(y_test, y_pred))\n"
   ]
  },
  {
   "cell_type": "code",
   "execution_count": 12,
   "metadata": {},
   "outputs": [
    {
     "name": "stdout",
     "output_type": "stream",
     "text": [
      "Training the model...\n"
     ]
    },
    {
     "name": "stderr",
     "output_type": "stream",
     "text": [
      "c:\\Users\\Ella\\miniconda3\\Lib\\site-packages\\sklearn\\utils\\deprecation.py:151: FutureWarning: 'force_all_finite' was renamed to 'ensure_all_finite' in 1.6 and will be removed in 1.8.\n",
      "  warnings.warn(\n"
     ]
    },
    {
     "name": "stdout",
     "output_type": "stream",
     "text": [
      "[LightGBM] [Info] Number of positive: 2793040, number of negative: 2329954\n",
      "[LightGBM] [Info] Auto-choosing row-wise multi-threading, the overhead of testing was 0.031420 seconds.\n",
      "You can set `force_row_wise=true` to remove the overhead.\n",
      "And if memory is not enough, you can set `force_col_wise=true`.\n",
      "[LightGBM] [Info] Total Bins 1311\n",
      "[LightGBM] [Info] Number of data points in the train set: 5122994, number of used features: 6\n",
      "[LightGBM] [Info] [binary:BoostFromScore]: pavg=0.545197 -> initscore=0.181282\n",
      "[LightGBM] [Info] Start training from score 0.181282\n"
     ]
    },
    {
     "name": "stderr",
     "output_type": "stream",
     "text": [
      "c:\\Users\\Ella\\miniconda3\\Lib\\site-packages\\sklearn\\utils\\deprecation.py:151: FutureWarning: 'force_all_finite' was renamed to 'ensure_all_finite' in 1.6 and will be removed in 1.8.\n",
      "  warnings.warn(\n",
      "c:\\Users\\Ella\\miniconda3\\Lib\\site-packages\\sklearn\\utils\\deprecation.py:151: FutureWarning: 'force_all_finite' was renamed to 'ensure_all_finite' in 1.6 and will be removed in 1.8.\n",
      "  warnings.warn(\n"
     ]
    },
    {
     "name": "stdout",
     "output_type": "stream",
     "text": [
      "Accuracy: 0.6551861449823502\n",
      "ROC AUC Score: 0.7082669610834553\n",
      "Classification Report:\n",
      "               precision    recall  f1-score   support\n",
      "\n",
      "           0       0.64      0.55      0.59    581020\n",
      "           1       0.67      0.74      0.70    699729\n",
      "\n",
      "    accuracy                           0.66   1280749\n",
      "   macro avg       0.65      0.65      0.65   1280749\n",
      "weighted avg       0.65      0.66      0.65   1280749\n",
      "\n",
      "Confusion Matrix:\n",
      " [[320857 260163]\n",
      " [181457 518272]]\n"
     ]
    }
   ],
   "source": [
    "from google.cloud import bigquery\n",
    "import os\n",
    "import pandas as pd\n",
    "from sklearn.model_selection import train_test_split\n",
    "from sklearn.preprocessing import StandardScaler\n",
    "from lightgbm import LGBMClassifier\n",
    "from sklearn.metrics import classification_report, accuracy_score, roc_auc_score, confusion_matrix\n",
    "\n",
    "# 設置服務帳戶憑據\n",
    "os.environ[\"GOOGLE_APPLICATION_CREDENTIALS\"] = \"final-445615-7590bb2d51fb.json\"\n",
    "\n",
    "# 初始化 BigQuery 客戶端\n",
    "client = bigquery.Client()\n",
    "\n",
    "\n",
    "# 初始化分類模型（使用 LightGBM）\n",
    "clf = LGBMClassifier(\n",
    "    n_estimators=100,\n",
    "    learning_rate=0.1,\n",
    "    max_depth=10,\n",
    "    random_state=42\n",
    ")\n",
    "\n",
    "# 訓練模型\n",
    "print(\"Training the model...\")\n",
    "clf.fit(X_train, y_train)\n",
    "\n",
    "# 測試模型\n",
    "y_pred = clf.predict(X_test)\n",
    "y_pred_proba = clf.predict_proba(X_test)[:, 1]  # 獲取概率分數，用於 AUC 計算\n",
    "\n",
    "# 評估模型\n",
    "accuracy = accuracy_score(y_test, y_pred)\n",
    "roc_auc = roc_auc_score(y_test, y_pred_proba)\n",
    "print(\"Accuracy:\", accuracy)\n",
    "print(\"ROC AUC Score:\", roc_auc)\n",
    "print(\"Classification Report:\\n\", classification_report(y_test, y_pred))\n",
    "\n",
    "# 混淆矩陣\n",
    "conf_matrix = confusion_matrix(y_test, y_pred)\n",
    "print(\"Confusion Matrix:\\n\", conf_matrix)\n"
   ]
  },
  {
   "cell_type": "markdown",
   "metadata": {},
   "source": [
    "# XGB"
   ]
  },
  {
   "cell_type": "code",
   "execution_count": 14,
   "metadata": {},
   "outputs": [
    {
     "name": "stdout",
     "output_type": "stream",
     "text": [
      "Training the model...\n"
     ]
    },
    {
     "name": "stderr",
     "output_type": "stream",
     "text": [
      "c:\\Users\\Ella\\miniconda3\\Lib\\site-packages\\xgboost\\core.py:158: UserWarning: [15:33:24] WARNING: C:\\buildkite-agent\\builds\\buildkite-windows-cpu-autoscaling-group-i-0c55ff5f71b100e98-1\\xgboost\\xgboost-ci-windows\\src\\learner.cc:740: \n",
      "Parameters: { \"use_label_encoder\" } are not used.\n",
      "\n",
      "  warnings.warn(smsg, UserWarning)\n"
     ]
    },
    {
     "name": "stdout",
     "output_type": "stream",
     "text": [
      "Accuracy: 0.6635728165245015\n",
      "ROC AUC Score: 0.7212223965806195\n",
      "Classification Report:\n",
      "               precision    recall  f1-score   support\n",
      "\n",
      "           0       0.65      0.56      0.60    873292\n",
      "           1       0.67      0.75      0.71   1047831\n",
      "\n",
      "    accuracy                           0.66   1921123\n",
      "   macro avg       0.66      0.66      0.66   1921123\n",
      "weighted avg       0.66      0.66      0.66   1921123\n",
      "\n",
      "Confusion Matrix:\n",
      " [[492201 381091]\n",
      " [265227 782604]]\n"
     ]
    }
   ],
   "source": [
    "from google.cloud import bigquery\n",
    "import os\n",
    "import pandas as pd\n",
    "from sklearn.model_selection import train_test_split\n",
    "from sklearn.preprocessing import StandardScaler\n",
    "from xgboost import XGBClassifier\n",
    "from sklearn.metrics import classification_report, accuracy_score, roc_auc_score, confusion_matrix\n",
    "\n",
    "# 設置服務帳戶憑據\n",
    "os.environ[\"GOOGLE_APPLICATION_CREDENTIALS\"] = \"final-445615-7590bb2d51fb.json\"\n",
    "\n",
    "# 初始化 BigQuery 客戶端\n",
    "client = bigquery.Client()\n",
    "\n",
    "# 加載數據並進行處理（假設已經有 X 和 y）\n",
    "# 對特徵進行縮放\n",
    "scaler = StandardScaler()\n",
    "X_scaled = scaler.fit_transform(X)\n",
    "\n",
    "# 分割數據\n",
    "X_train, X_test, y_train, y_test = train_test_split(X_scaled, y, test_size=0.3, random_state=42, stratify=y)\n",
    "\n",
    "# 初始化分類模型（使用 XGBoost）\n",
    "clf = XGBClassifier(\n",
    "    n_estimators=200,\n",
    "    learning_rate=0.05,\n",
    "    max_depth=12,\n",
    "    subsample=0.8,\n",
    "    colsample_bytree=0.8,\n",
    "    random_state=42,\n",
    "    use_label_encoder=False,\n",
    "    eval_metric='logloss'\n",
    ")\n",
    "\n",
    "# 訓練模型\n",
    "print(\"Training the model...\")\n",
    "clf.fit(X_train, y_train)\n",
    "\n",
    "# 測試模型\n",
    "y_pred = clf.predict(X_test)\n",
    "y_pred_proba = clf.predict_proba(X_test)[:, 1]  # 獲取概率分數，用於 AUC 計算\n",
    "\n",
    "# 評估模型\n",
    "accuracy = accuracy_score(y_test, y_pred)\n",
    "roc_auc = roc_auc_score(y_test, y_pred_proba)\n",
    "print(\"Accuracy:\", accuracy)\n",
    "print(\"ROC AUC Score:\", roc_auc)\n",
    "print(\"Classification Report:\\n\", classification_report(y_test, y_pred))\n",
    "\n",
    "# 混淆矩陣\n",
    "conf_matrix = confusion_matrix(y_test, y_pred)\n",
    "print(\"Confusion Matrix:\\n\", conf_matrix)\n"
   ]
  },
  {
   "cell_type": "markdown",
   "metadata": {},
   "source": [
    "# 多模型比較\n",
    "### 模型：\n",
    "1. Logistic Regression\n",
    "2. Random Forest\n",
    "3. Gradient Boosting (XGBoost)\n",
    "4. LightGBM"
   ]
  },
  {
   "cell_type": "code",
   "execution_count": 18,
   "metadata": {},
   "outputs": [
    {
     "name": "stdout",
     "output_type": "stream",
     "text": [
      "Training Logistic Regression...\n",
      "Logistic Regression Confusion Matrix:\n",
      " [[450677 422615]\n",
      " [351181 696650]]\n",
      "Training Random Forest...\n",
      "Random Forest Confusion Matrix:\n",
      " [[467431 405861]\n",
      " [263428 784403]]\n",
      "Training XGBoost...\n",
      "XGBoost Confusion Matrix:\n",
      " [[492201 381091]\n",
      " [265227 782604]]\n",
      "Training LightGBM...\n"
     ]
    },
    {
     "name": "stderr",
     "output_type": "stream",
     "text": [
      "c:\\Users\\Ella\\miniconda3\\Lib\\site-packages\\sklearn\\utils\\deprecation.py:151: FutureWarning: 'force_all_finite' was renamed to 'ensure_all_finite' in 1.6 and will be removed in 1.8.\n",
      "  warnings.warn(\n"
     ]
    },
    {
     "name": "stdout",
     "output_type": "stream",
     "text": [
      "[LightGBM] [Info] Number of positive: 2444938, number of negative: 2037682\n",
      "[LightGBM] [Info] Auto-choosing row-wise multi-threading, the overhead of testing was 0.011679 seconds.\n",
      "You can set `force_row_wise=true` to remove the overhead.\n",
      "And if memory is not enough, you can set `force_col_wise=true`.\n",
      "[LightGBM] [Info] Total Bins 1312\n",
      "[LightGBM] [Info] Number of data points in the train set: 4482620, number of used features: 6\n",
      "[LightGBM] [Info] [binary:BoostFromScore]: pavg=0.545426 -> initscore=0.182207\n",
      "[LightGBM] [Info] Start training from score 0.182207\n"
     ]
    },
    {
     "name": "stderr",
     "output_type": "stream",
     "text": [
      "c:\\Users\\Ella\\miniconda3\\Lib\\site-packages\\sklearn\\utils\\deprecation.py:151: FutureWarning: 'force_all_finite' was renamed to 'ensure_all_finite' in 1.6 and will be removed in 1.8.\n",
      "  warnings.warn(\n",
      "c:\\Users\\Ella\\miniconda3\\Lib\\site-packages\\sklearn\\utils\\deprecation.py:151: FutureWarning: 'force_all_finite' was renamed to 'ensure_all_finite' in 1.6 and will be removed in 1.8.\n",
      "  warnings.warn(\n"
     ]
    },
    {
     "name": "stdout",
     "output_type": "stream",
     "text": [
      "LightGBM Confusion Matrix:\n",
      " [[480916 392376]\n",
      " [270519 777312]]\n"
     ]
    },
    {
     "data": {
      "text/plain": [
       "<Figure size 1200x600 with 0 Axes>"
      ]
     },
     "metadata": {},
     "output_type": "display_data"
    },
    {
     "data": {
      "image/png": "[encoded data removed]",
      "text/plain": [
       "<Figure size 1200x600 with 1 Axes>"
      ]
     },
     "metadata": {},
     "output_type": "display_data"
    },
    {
     "data": {
      "image/png": "[encoded data removed]",
      "text/plain": [
       "<Figure size 800x600 with 2 Axes>"
      ]
     },
     "metadata": {},
     "output_type": "display_data"
    },
    {
     "name": "stdout",
     "output_type": "stream",
     "text": [
      "Performance Summary:\n",
      "                 Model  Accuracy   ROC AUC  Precision (1)  Recall (1)  \\\n",
      "0  Logistic Regression  0.597217  0.630598       0.622417    0.664850   \n",
      "1        Random Forest  0.651616  0.702451       0.659016    0.748597   \n",
      "2              XGBoost  0.663573  0.721222       0.672516    0.746880   \n",
      "3             LightGBM  0.654944  0.707818       0.664546    0.741830   \n",
      "\n",
      "   F1-Score (1)  \n",
      "0      0.642934  \n",
      "1      0.700956  \n",
      "2      0.707750  \n",
      "3      0.701065  \n"
     ]
    }
   ],
   "source": [
    "import matplotlib.pyplot as plt\n",
    "import seaborn as sns\n",
    "from sklearn.linear_model import LogisticRegression\n",
    "from sklearn.ensemble import RandomForestClassifier\n",
    "from xgboost import XGBClassifier\n",
    "from lightgbm import LGBMClassifier\n",
    "from sklearn.metrics import (\n",
    "    classification_report,\n",
    "    accuracy_score,\n",
    "    roc_auc_score,\n",
    "    confusion_matrix\n",
    ")\n",
    "\n",
    "# 模型列表\n",
    "models = {\n",
    "    \"Logistic Regression\": LogisticRegression(max_iter=1000, random_state=42),\n",
    "    \"Random Forest\": RandomForestClassifier(n_estimators=100, max_depth=10, random_state=42),\n",
    "    \"XGBoost\": XGBClassifier(n_estimators=200, learning_rate=0.05, max_depth=12, subsample=0.8, colsample_bytree=0.8, random_state=42),\n",
    "    \"LightGBM\": LGBMClassifier(n_estimators=200, learning_rate=0.05, max_depth=12, random_state=42)\n",
    "}\n",
    "\n",
    "# 儲存結果\n",
    "results = []\n",
    "\n",
    "# 訓練和測試每個模型\n",
    "for name, model in models.items():\n",
    "    print(f\"Training {name}...\")\n",
    "    model.fit(X_train, y_train)\n",
    "    y_pred = model.predict(X_test)\n",
    "    y_pred_proba = model.predict_proba(X_test)[:, 1]\n",
    "    \n",
    "    # 計算指標\n",
    "    acc = accuracy_score(y_test, y_pred)\n",
    "    roc_auc = roc_auc_score(y_test, y_pred_proba)\n",
    "    report = classification_report(y_test, y_pred, output_dict=True)\n",
    "    \n",
    "    # 儲存結果\n",
    "    results.append({\n",
    "        \"Model\": name,\n",
    "        \"Accuracy\": acc,\n",
    "        \"ROC AUC\": roc_auc,\n",
    "        \"Precision (1)\": report[\"1\"][\"precision\"],\n",
    "        \"Recall (1)\": report[\"1\"][\"recall\"],\n",
    "        \"F1-Score (1)\": report[\"1\"][\"f1-score\"]\n",
    "    })\n",
    "    \n",
    "    # 混淆矩陣\n",
    "    conf_matrix = confusion_matrix(y_test, y_pred)\n",
    "    print(f\"{name} Confusion Matrix:\\n\", conf_matrix)\n",
    "\n",
    "# 將結果轉為 DataFrame\n",
    "results_df = pd.DataFrame(results)\n",
    "\n",
    "# 視覺化結果\n",
    "plt.figure(figsize=(12, 6))\n",
    "\n",
    "# Accuracy 和 ROC AUC 條形圖\n",
    "results_df.plot(x=\"Model\", y=[\"Accuracy\", \"ROC AUC\"], kind=\"bar\", figsize=(12, 6), alpha=0.7)\n",
    "plt.title(\"Model Performance Comparison\")\n",
    "plt.ylabel(\"Score\")\n",
    "plt.xticks(rotation=45)\n",
    "plt.grid(axis=\"y\")\n",
    "plt.show()\n",
    "\n",
    "# 混淆矩陣熱圖（以最佳模型為例）\n",
    "best_model_name = results_df.sort_values(by=\"ROC AUC\", ascending=False).iloc[0][\"Model\"]\n",
    "best_model = models[best_model_name]\n",
    "y_pred = best_model.predict(X_test)\n",
    "conf_matrix = confusion_matrix(y_test, y_pred)\n",
    "\n",
    "plt.figure(figsize=(8, 6))\n",
    "sns.heatmap(conf_matrix, annot=True, fmt=\"d\", cmap=\"Blues\", xticklabels=[\"Class 0\", \"Class 1\"], yticklabels=[\"Class 0\", \"Class 1\"])\n",
    "plt.title(f\"Confusion Matrix - {best_model_name}\")\n",
    "plt.xlabel(\"Predicted\")\n",
    "plt.ylabel(\"Actual\")\n",
    "plt.show()\n",
    "\n",
    "# 顯示結果\n",
    "print(\"Performance Summary:\")\n",
    "print(results_df)\n"
   ]
  },
  {
   "cell_type": "markdown",
   "metadata": {},
   "source": [
    "# full data"
   ]
  },
  {
   "cell_type": "code",
   "execution_count": 21,
   "metadata": {},
   "outputs": [
    {
     "name": "stdout",
     "output_type": "stream",
     "text": [
      "Running BigQuery query...\n",
      "Query completed. Data loaded into DataFrame.\n"
     ]
    }
   ],
   "source": [
    "from google.cloud import bigquery\n",
    "import os\n",
    "import pandas as pd\n",
    "from sklearn.model_selection import train_test_split\n",
    "from sklearn.preprocessing import StandardScaler\n",
    "from sklearn.ensemble import RandomForestClassifier\n",
    "from sklearn.metrics import classification_report, accuracy_score\n",
    "\n",
    "# 設置服務帳戶憑據\n",
    "os.environ[\"GOOGLE_APPLICATION_CREDENTIALS\"] = \"final-445615-7590bb2d51fb.json\"\n",
    "\n",
    "# 初始化 BigQuery 客戶端\n",
    "client = bigquery.Client()\n",
    "\n",
    "# 執行查詢並直接轉為 DataFrame\n",
    "query = \"\"\"\n",
    "SELECT \n",
    "    answer_score, \n",
    "    answer_comment_count, \n",
    "    answerer_reputation,\n",
    "    user_tenure_seconds,\n",
    "    answerer_up_votes,\n",
    "    answerer_down_votes,\n",
    "    classification_label\n",
    "FROM `final-445615.ml_data.1231_full`\n",
    "\"\"\"\n",
    "print(\"Running BigQuery query...\")\n",
    "query_job = client.query(query)\n",
    "rows = [dict(row) for row in query_job.result()]  # 將結果轉為列表\n",
    "df = pd.DataFrame(rows)  # 將結果轉為 DataFrame\n",
    "print(\"Query completed. Data loaded into DataFrame.\")"
   ]
  },
  {
   "cell_type": "code",
   "execution_count": 22,
   "metadata": {},
   "outputs": [
    {
     "name": "stdout",
     "output_type": "stream",
     "text": [
      "DataFrame after removing missing values:\n",
      "<class 'pandas.core.frame.DataFrame'>\n",
      "RangeIndex: 21342975 entries, 0 to 21342974\n",
      "Data columns (total 7 columns):\n",
      " #   Column                Dtype\n",
      "---  ------                -----\n",
      " 0   answer_score          int64\n",
      " 1   answer_comment_count  int64\n",
      " 2   answerer_reputation   int64\n",
      " 3   user_tenure_seconds   int64\n",
      " 4   answerer_up_votes     int64\n",
      " 5   answerer_down_votes   int64\n",
      " 6   classification_label  int64\n",
      "dtypes: int64(7)\n",
      "memory usage: 1.1 GB\n",
      "None\n",
      "Training the model...\n",
      "Accuracy: 0.6519068802180514\n",
      "ROC AUC Score: 0.7023891948680931\n",
      "Classification Report:\n",
      "               precision    recall  f1-score   support\n",
      "\n",
      "           0       0.64      0.53      0.58   2910467\n",
      "           1       0.66      0.75      0.70   3492426\n",
      "\n",
      "    accuracy                           0.65   6402893\n",
      "   macro avg       0.65      0.64      0.64   6402893\n",
      "weighted avg       0.65      0.65      0.65   6402893\n",
      "\n",
      "Confusion Matrix:\n",
      " [[1555036 1355431]\n",
      " [ 873372 2619054]]\n"
     ]
    },
    {
     "data": {
      "image/png": "[encoded data removed]",
      "text/plain": [
       "<Figure size 800x600 with 2 Axes>"
      ]
     },
     "metadata": {},
     "output_type": "display_data"
    }
   ],
   "source": [
    "# 處理缺失值（移除或填補）\n",
    "df = df.dropna()  # 移除缺失值\n",
    "print(\"DataFrame after removing missing values:\")\n",
    "print(df.info())\n",
    "\n",
    "# 特徵與標籤\n",
    "X = df.drop(columns=[\"classification_label\"])  # 特徵\n",
    "y = df[\"classification_label\"]  # 標籤\n",
    "\n",
    "# 數據分割\n",
    "X_train, X_test, y_train, y_test = train_test_split(X, y, test_size=0.3, random_state=42, stratify=y)\n",
    "\n",
    "# 特徵縮放\n",
    "scaler = StandardScaler()\n",
    "X_train_scaled = scaler.fit_transform(X_train)\n",
    "X_test_scaled = scaler.transform(X_test)\n",
    "\n",
    "# 初始化隨機森林分類器\n",
    "clf = RandomForestClassifier(n_estimators=100, max_depth=10, random_state=42)\n",
    "\n",
    "# 訓練模型\n",
    "print(\"Training the model...\")\n",
    "clf.fit(X_train_scaled, y_train)\n",
    "\n",
    "# 測試模型\n",
    "y_pred = clf.predict(X_test_scaled)\n",
    "y_pred_proba = clf.predict_proba(X_test_scaled)[:, 1]  # 獲取概率分數\n",
    "\n",
    "# 評估模型\n",
    "accuracy = accuracy_score(y_test, y_pred)\n",
    "roc_auc = roc_auc_score(y_test, y_pred_proba)\n",
    "print(\"Accuracy:\", accuracy)\n",
    "print(\"ROC AUC Score:\", roc_auc)\n",
    "print(\"Classification Report:\\n\", classification_report(y_test, y_pred))\n",
    "\n",
    "# 混淆矩陣\n",
    "conf_matrix = confusion_matrix(y_test, y_pred)\n",
    "print(\"Confusion Matrix:\\n\", conf_matrix)\n",
    "\n",
    "# 視覺化混淆矩陣\n",
    "import seaborn as sns\n",
    "import matplotlib.pyplot as plt\n",
    "\n",
    "plt.figure(figsize=(8, 6))\n",
    "sns.heatmap(conf_matrix, annot=True, fmt=\"d\", cmap=\"Blues\", xticklabels=[\"Class 0\", \"Class 1\"], yticklabels=[\"Class 0\", \"Class 1\"])\n",
    "plt.title(\"Confusion Matrix\")\n",
    "plt.xlabel(\"Predicted\")\n",
    "plt.ylabel(\"Actual\")\n",
    "plt.show()"
   ]
  }
 ],
 "metadata": {
  "kernelspec": {
   "display_name": "base",
   "language": "python",
   "name": "python3"
  },
  "language_info": {
   "codemirror_mode": {
    "name": "ipython",
    "version": 3
   },
   "file_extension": ".py",
   "mimetype": "text/x-python",
   "name": "python",
   "nbconvert_exporter": "python",
   "pygments_lexer": "ipython3",
   "version": "3.11.9"
  }
 },
 "nbformat": 4,
 "nbformat_minor": 2
}
